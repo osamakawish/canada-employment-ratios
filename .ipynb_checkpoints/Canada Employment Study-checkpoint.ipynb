{
 "cells": [
  {
   "cell_type": "markdown",
   "id": "6b82a2c9",
   "metadata": {},
   "source": [
    "# [Canada Employment Data](https://www.kaggle.com/datasets/ortizmacleod/employment-rate-canada)"
   ]
  },
  {
   "cell_type": "code",
   "execution_count": 1,
   "id": "ed930ad7",
   "metadata": {},
   "outputs": [
    {
     "data": {
      "text/html": [
       "<div>\n",
       "<style scoped>\n",
       "    .dataframe tbody tr th:only-of-type {\n",
       "        vertical-align: middle;\n",
       "    }\n",
       "\n",
       "    .dataframe tbody tr th {\n",
       "        vertical-align: top;\n",
       "    }\n",
       "\n",
       "    .dataframe thead th {\n",
       "        text-align: right;\n",
       "    }\n",
       "</style>\n",
       "<table border=\"1\" class=\"dataframe\">\n",
       "  <thead>\n",
       "    <tr style=\"text-align: right;\">\n",
       "      <th></th>\n",
       "      <th>month</th>\n",
       "      <th>variable</th>\n",
       "      <th>sex</th>\n",
       "      <th>Alberta</th>\n",
       "      <th>British Columbia</th>\n",
       "      <th>Manitoba</th>\n",
       "      <th>New Brunswick</th>\n",
       "      <th>Newfoundland and Labrador</th>\n",
       "      <th>Nova Scotia</th>\n",
       "      <th>Ontario</th>\n",
       "      <th>Prince Edward Island</th>\n",
       "      <th>Quebec</th>\n",
       "      <th>Saskatchewan</th>\n",
       "    </tr>\n",
       "  </thead>\n",
       "  <tbody>\n",
       "    <tr>\n",
       "      <th>0</th>\n",
       "      <td>1976-01</td>\n",
       "      <td>Employment</td>\n",
       "      <td>Both sexes</td>\n",
       "      <td>819.5</td>\n",
       "      <td>1029.7</td>\n",
       "      <td>427.4</td>\n",
       "      <td>229.6</td>\n",
       "      <td>162.4</td>\n",
       "      <td>303.0</td>\n",
       "      <td>3707.4</td>\n",
       "      <td>42.7</td>\n",
       "      <td>2545.4</td>\n",
       "      <td>369.5</td>\n",
       "    </tr>\n",
       "    <tr>\n",
       "      <th>1</th>\n",
       "      <td>1976-01</td>\n",
       "      <td>Employment</td>\n",
       "      <td>Females</td>\n",
       "      <td>307.1</td>\n",
       "      <td>379.3</td>\n",
       "      <td>164.9</td>\n",
       "      <td>84.3</td>\n",
       "      <td>50.8</td>\n",
       "      <td>110.3</td>\n",
       "      <td>1426.7</td>\n",
       "      <td>16.5</td>\n",
       "      <td>879.5</td>\n",
       "      <td>131.9</td>\n",
       "    </tr>\n",
       "    <tr>\n",
       "      <th>2</th>\n",
       "      <td>1976-01</td>\n",
       "      <td>Employment</td>\n",
       "      <td>Males</td>\n",
       "      <td>512.5</td>\n",
       "      <td>650.4</td>\n",
       "      <td>262.6</td>\n",
       "      <td>145.3</td>\n",
       "      <td>111.6</td>\n",
       "      <td>192.7</td>\n",
       "      <td>2280.7</td>\n",
       "      <td>26.2</td>\n",
       "      <td>1665.9</td>\n",
       "      <td>237.6</td>\n",
       "    </tr>\n",
       "    <tr>\n",
       "      <th>3</th>\n",
       "      <td>1976-01</td>\n",
       "      <td>Full-time employment</td>\n",
       "      <td>Both sexes</td>\n",
       "      <td>693.7</td>\n",
       "      <td>877.1</td>\n",
       "      <td>369.0</td>\n",
       "      <td>201.7</td>\n",
       "      <td>150.0</td>\n",
       "      <td>265.4</td>\n",
       "      <td>3209.1</td>\n",
       "      <td>37.2</td>\n",
       "      <td>2315.6</td>\n",
       "      <td>312.2</td>\n",
       "    </tr>\n",
       "    <tr>\n",
       "      <th>4</th>\n",
       "      <td>1976-01</td>\n",
       "      <td>Full-time employment</td>\n",
       "      <td>Females</td>\n",
       "      <td>217.9</td>\n",
       "      <td>274.6</td>\n",
       "      <td>119.8</td>\n",
       "      <td>62.7</td>\n",
       "      <td>42.1</td>\n",
       "      <td>84.6</td>\n",
       "      <td>1084.1</td>\n",
       "      <td>12.7</td>\n",
       "      <td>727.0</td>\n",
       "      <td>93.3</td>\n",
       "    </tr>\n",
       "    <tr>\n",
       "      <th>...</th>\n",
       "      <td>...</td>\n",
       "      <td>...</td>\n",
       "      <td>...</td>\n",
       "      <td>...</td>\n",
       "      <td>...</td>\n",
       "      <td>...</td>\n",
       "      <td>...</td>\n",
       "      <td>...</td>\n",
       "      <td>...</td>\n",
       "      <td>...</td>\n",
       "      <td>...</td>\n",
       "      <td>...</td>\n",
       "      <td>...</td>\n",
       "    </tr>\n",
       "    <tr>\n",
       "      <th>4738</th>\n",
       "      <td>2019-11</td>\n",
       "      <td>Full-time employment</td>\n",
       "      <td>Females</td>\n",
       "      <td>788.4</td>\n",
       "      <td>860.9</td>\n",
       "      <td>222.3</td>\n",
       "      <td>140.2</td>\n",
       "      <td>86.0</td>\n",
       "      <td>177.0</td>\n",
       "      <td>2708.6</td>\n",
       "      <td>30.6</td>\n",
       "      <td>1575.1</td>\n",
       "      <td>197.7</td>\n",
       "    </tr>\n",
       "    <tr>\n",
       "      <th>4739</th>\n",
       "      <td>2019-11</td>\n",
       "      <td>Full-time employment</td>\n",
       "      <td>Males</td>\n",
       "      <td>1134.0</td>\n",
       "      <td>1138.0</td>\n",
       "      <td>305.7</td>\n",
       "      <td>160.9</td>\n",
       "      <td>103.6</td>\n",
       "      <td>204.0</td>\n",
       "      <td>3411.6</td>\n",
       "      <td>36.2</td>\n",
       "      <td>1939.4</td>\n",
       "      <td>277.5</td>\n",
       "    </tr>\n",
       "    <tr>\n",
       "      <th>4740</th>\n",
       "      <td>2019-11</td>\n",
       "      <td>Part-time employment</td>\n",
       "      <td>Both sexes</td>\n",
       "      <td>416.3</td>\n",
       "      <td>551.4</td>\n",
       "      <td>123.8</td>\n",
       "      <td>53.1</td>\n",
       "      <td>37.1</td>\n",
       "      <td>85.8</td>\n",
       "      <td>1398.2</td>\n",
       "      <td>12.1</td>\n",
       "      <td>810.5</td>\n",
       "      <td>106.0</td>\n",
       "    </tr>\n",
       "    <tr>\n",
       "      <th>4741</th>\n",
       "      <td>2019-11</td>\n",
       "      <td>Part-time employment</td>\n",
       "      <td>Females</td>\n",
       "      <td>288.6</td>\n",
       "      <td>355.7</td>\n",
       "      <td>81.2</td>\n",
       "      <td>33.2</td>\n",
       "      <td>24.9</td>\n",
       "      <td>56.2</td>\n",
       "      <td>889.7</td>\n",
       "      <td>8.0</td>\n",
       "      <td>499.5</td>\n",
       "      <td>70.2</td>\n",
       "    </tr>\n",
       "    <tr>\n",
       "      <th>4742</th>\n",
       "      <td>2019-11</td>\n",
       "      <td>Part-time employment</td>\n",
       "      <td>Males</td>\n",
       "      <td>127.7</td>\n",
       "      <td>195.7</td>\n",
       "      <td>42.6</td>\n",
       "      <td>19.9</td>\n",
       "      <td>12.2</td>\n",
       "      <td>29.6</td>\n",
       "      <td>508.5</td>\n",
       "      <td>4.1</td>\n",
       "      <td>311.0</td>\n",
       "      <td>35.8</td>\n",
       "    </tr>\n",
       "  </tbody>\n",
       "</table>\n",
       "<p>4743 rows × 13 columns</p>\n",
       "</div>"
      ],
      "text/plain": [
       "        month               variable         sex  Alberta  British Columbia  \\\n",
       "0     1976-01             Employment  Both sexes    819.5            1029.7   \n",
       "1     1976-01             Employment     Females    307.1             379.3   \n",
       "2     1976-01             Employment       Males    512.5             650.4   \n",
       "3     1976-01   Full-time employment  Both sexes    693.7             877.1   \n",
       "4     1976-01   Full-time employment     Females    217.9             274.6   \n",
       "...       ...                    ...         ...      ...               ...   \n",
       "4738  2019-11   Full-time employment     Females    788.4             860.9   \n",
       "4739  2019-11   Full-time employment       Males   1134.0            1138.0   \n",
       "4740  2019-11  Part-time employment   Both sexes    416.3             551.4   \n",
       "4741  2019-11  Part-time employment      Females    288.6             355.7   \n",
       "4742  2019-11  Part-time employment        Males    127.7             195.7   \n",
       "\n",
       "      Manitoba  New Brunswick  Newfoundland and Labrador  Nova Scotia  \\\n",
       "0        427.4          229.6                      162.4        303.0   \n",
       "1        164.9           84.3                       50.8        110.3   \n",
       "2        262.6          145.3                      111.6        192.7   \n",
       "3        369.0          201.7                      150.0        265.4   \n",
       "4        119.8           62.7                       42.1         84.6   \n",
       "...        ...            ...                        ...          ...   \n",
       "4738     222.3          140.2                       86.0        177.0   \n",
       "4739     305.7          160.9                      103.6        204.0   \n",
       "4740     123.8           53.1                       37.1         85.8   \n",
       "4741      81.2           33.2                       24.9         56.2   \n",
       "4742      42.6           19.9                       12.2         29.6   \n",
       "\n",
       "      Ontario  Prince Edward Island  Quebec  Saskatchewan  \n",
       "0      3707.4                  42.7  2545.4         369.5  \n",
       "1      1426.7                  16.5   879.5         131.9  \n",
       "2      2280.7                  26.2  1665.9         237.6  \n",
       "3      3209.1                  37.2  2315.6         312.2  \n",
       "4      1084.1                  12.7   727.0          93.3  \n",
       "...       ...                   ...     ...           ...  \n",
       "4738   2708.6                  30.6  1575.1         197.7  \n",
       "4739   3411.6                  36.2  1939.4         277.5  \n",
       "4740   1398.2                  12.1   810.5         106.0  \n",
       "4741    889.7                   8.0   499.5          70.2  \n",
       "4742    508.5                   4.1   311.0          35.8  \n",
       "\n",
       "[4743 rows x 13 columns]"
      ]
     },
     "execution_count": 1,
     "metadata": {},
     "output_type": "execute_result"
    }
   ],
   "source": [
    "import pandas as pd\n",
    "employment = pd.read_csv('canada_employment.csv')\n",
    "employment"
   ]
  },
  {
   "cell_type": "code",
   "execution_count": 15,
   "id": "0b7f9526",
   "metadata": {},
   "outputs": [
    {
     "data": {
      "text/plain": [
       "False"
      ]
     },
     "execution_count": 15,
     "metadata": {},
     "output_type": "execute_result"
    }
   ],
   "source": [
    "# employment.where(lambda x : bool((x != 'NaN') and (x != 'Both sexes')))\n",
    "f = lambda x : bool((x != 'NaN') and (x != 'Both sexes'))\n",
    "f('NaN')"
   ]
  },
  {
   "cell_type": "code",
   "execution_count": 35,
   "id": "bec45546",
   "metadata": {},
   "outputs": [
    {
     "data": {
      "text/html": [
       "<div>\n",
       "<style scoped>\n",
       "    .dataframe tbody tr th:only-of-type {\n",
       "        vertical-align: middle;\n",
       "    }\n",
       "\n",
       "    .dataframe tbody tr th {\n",
       "        vertical-align: top;\n",
       "    }\n",
       "\n",
       "    .dataframe thead th {\n",
       "        text-align: right;\n",
       "    }\n",
       "</style>\n",
       "<table border=\"1\" class=\"dataframe\">\n",
       "  <thead>\n",
       "    <tr style=\"text-align: right;\">\n",
       "      <th></th>\n",
       "      <th>month</th>\n",
       "      <th>variable</th>\n",
       "      <th>sex</th>\n",
       "      <th>Alberta</th>\n",
       "      <th>British Columbia</th>\n",
       "      <th>Manitoba</th>\n",
       "      <th>New Brunswick</th>\n",
       "      <th>Newfoundland and Labrador</th>\n",
       "      <th>Nova Scotia</th>\n",
       "      <th>Ontario</th>\n",
       "      <th>Prince Edward Island</th>\n",
       "      <th>Quebec</th>\n",
       "      <th>Saskatchewan</th>\n",
       "    </tr>\n",
       "  </thead>\n",
       "  <tbody>\n",
       "    <tr>\n",
       "      <th>1</th>\n",
       "      <td>1976-01</td>\n",
       "      <td>Employment</td>\n",
       "      <td>Females</td>\n",
       "      <td>307.1</td>\n",
       "      <td>379.3</td>\n",
       "      <td>164.9</td>\n",
       "      <td>84.3</td>\n",
       "      <td>50.8</td>\n",
       "      <td>110.3</td>\n",
       "      <td>1426.7</td>\n",
       "      <td>16.5</td>\n",
       "      <td>879.5</td>\n",
       "      <td>131.9</td>\n",
       "    </tr>\n",
       "    <tr>\n",
       "      <th>2</th>\n",
       "      <td>1976-01</td>\n",
       "      <td>Employment</td>\n",
       "      <td>Males</td>\n",
       "      <td>512.5</td>\n",
       "      <td>650.4</td>\n",
       "      <td>262.6</td>\n",
       "      <td>145.3</td>\n",
       "      <td>111.6</td>\n",
       "      <td>192.7</td>\n",
       "      <td>2280.7</td>\n",
       "      <td>26.2</td>\n",
       "      <td>1665.9</td>\n",
       "      <td>237.6</td>\n",
       "    </tr>\n",
       "    <tr>\n",
       "      <th>4</th>\n",
       "      <td>1976-01</td>\n",
       "      <td>Full-time employment</td>\n",
       "      <td>Females</td>\n",
       "      <td>217.9</td>\n",
       "      <td>274.6</td>\n",
       "      <td>119.8</td>\n",
       "      <td>62.7</td>\n",
       "      <td>42.1</td>\n",
       "      <td>84.6</td>\n",
       "      <td>1084.1</td>\n",
       "      <td>12.7</td>\n",
       "      <td>727.0</td>\n",
       "      <td>93.3</td>\n",
       "    </tr>\n",
       "    <tr>\n",
       "      <th>5</th>\n",
       "      <td>1976-01</td>\n",
       "      <td>Full-time employment</td>\n",
       "      <td>Males</td>\n",
       "      <td>475.8</td>\n",
       "      <td>602.5</td>\n",
       "      <td>249.2</td>\n",
       "      <td>139.0</td>\n",
       "      <td>107.8</td>\n",
       "      <td>180.8</td>\n",
       "      <td>2124.9</td>\n",
       "      <td>24.5</td>\n",
       "      <td>1588.7</td>\n",
       "      <td>218.9</td>\n",
       "    </tr>\n",
       "    <tr>\n",
       "      <th>7</th>\n",
       "      <td>1976-01</td>\n",
       "      <td>Part-time employment</td>\n",
       "      <td>Females</td>\n",
       "      <td>89.2</td>\n",
       "      <td>104.7</td>\n",
       "      <td>45.0</td>\n",
       "      <td>21.6</td>\n",
       "      <td>8.6</td>\n",
       "      <td>25.7</td>\n",
       "      <td>342.6</td>\n",
       "      <td>3.8</td>\n",
       "      <td>152.6</td>\n",
       "      <td>38.6</td>\n",
       "    </tr>\n",
       "    <tr>\n",
       "      <th>...</th>\n",
       "      <td>...</td>\n",
       "      <td>...</td>\n",
       "      <td>...</td>\n",
       "      <td>...</td>\n",
       "      <td>...</td>\n",
       "      <td>...</td>\n",
       "      <td>...</td>\n",
       "      <td>...</td>\n",
       "      <td>...</td>\n",
       "      <td>...</td>\n",
       "      <td>...</td>\n",
       "      <td>...</td>\n",
       "      <td>...</td>\n",
       "    </tr>\n",
       "    <tr>\n",
       "      <th>4736</th>\n",
       "      <td>2019-11</td>\n",
       "      <td>Employment</td>\n",
       "      <td>Males</td>\n",
       "      <td>1261.7</td>\n",
       "      <td>1333.7</td>\n",
       "      <td>348.3</td>\n",
       "      <td>180.8</td>\n",
       "      <td>115.9</td>\n",
       "      <td>233.6</td>\n",
       "      <td>3920.1</td>\n",
       "      <td>40.4</td>\n",
       "      <td>2250.3</td>\n",
       "      <td>313.3</td>\n",
       "    </tr>\n",
       "    <tr>\n",
       "      <th>4738</th>\n",
       "      <td>2019-11</td>\n",
       "      <td>Full-time employment</td>\n",
       "      <td>Females</td>\n",
       "      <td>788.4</td>\n",
       "      <td>860.9</td>\n",
       "      <td>222.3</td>\n",
       "      <td>140.2</td>\n",
       "      <td>86.0</td>\n",
       "      <td>177.0</td>\n",
       "      <td>2708.6</td>\n",
       "      <td>30.6</td>\n",
       "      <td>1575.1</td>\n",
       "      <td>197.7</td>\n",
       "    </tr>\n",
       "    <tr>\n",
       "      <th>4739</th>\n",
       "      <td>2019-11</td>\n",
       "      <td>Full-time employment</td>\n",
       "      <td>Males</td>\n",
       "      <td>1134.0</td>\n",
       "      <td>1138.0</td>\n",
       "      <td>305.7</td>\n",
       "      <td>160.9</td>\n",
       "      <td>103.6</td>\n",
       "      <td>204.0</td>\n",
       "      <td>3411.6</td>\n",
       "      <td>36.2</td>\n",
       "      <td>1939.4</td>\n",
       "      <td>277.5</td>\n",
       "    </tr>\n",
       "    <tr>\n",
       "      <th>4741</th>\n",
       "      <td>2019-11</td>\n",
       "      <td>Part-time employment</td>\n",
       "      <td>Females</td>\n",
       "      <td>288.6</td>\n",
       "      <td>355.7</td>\n",
       "      <td>81.2</td>\n",
       "      <td>33.2</td>\n",
       "      <td>24.9</td>\n",
       "      <td>56.2</td>\n",
       "      <td>889.7</td>\n",
       "      <td>8.0</td>\n",
       "      <td>499.5</td>\n",
       "      <td>70.2</td>\n",
       "    </tr>\n",
       "    <tr>\n",
       "      <th>4742</th>\n",
       "      <td>2019-11</td>\n",
       "      <td>Part-time employment</td>\n",
       "      <td>Males</td>\n",
       "      <td>127.7</td>\n",
       "      <td>195.7</td>\n",
       "      <td>42.6</td>\n",
       "      <td>19.9</td>\n",
       "      <td>12.2</td>\n",
       "      <td>29.6</td>\n",
       "      <td>508.5</td>\n",
       "      <td>4.1</td>\n",
       "      <td>311.0</td>\n",
       "      <td>35.8</td>\n",
       "    </tr>\n",
       "  </tbody>\n",
       "</table>\n",
       "<p>3162 rows × 13 columns</p>\n",
       "</div>"
      ],
      "text/plain": [
       "        month               variable      sex  Alberta  British Columbia  \\\n",
       "1     1976-01             Employment  Females    307.1             379.3   \n",
       "2     1976-01             Employment    Males    512.5             650.4   \n",
       "4     1976-01   Full-time employment  Females    217.9             274.6   \n",
       "5     1976-01   Full-time employment    Males    475.8             602.5   \n",
       "7     1976-01  Part-time employment   Females     89.2             104.7   \n",
       "...       ...                    ...      ...      ...               ...   \n",
       "4736  2019-11             Employment    Males   1261.7            1333.7   \n",
       "4738  2019-11   Full-time employment  Females    788.4             860.9   \n",
       "4739  2019-11   Full-time employment    Males   1134.0            1138.0   \n",
       "4741  2019-11  Part-time employment   Females    288.6             355.7   \n",
       "4742  2019-11  Part-time employment     Males    127.7             195.7   \n",
       "\n",
       "      Manitoba  New Brunswick  Newfoundland and Labrador  Nova Scotia  \\\n",
       "1        164.9           84.3                       50.8        110.3   \n",
       "2        262.6          145.3                      111.6        192.7   \n",
       "4        119.8           62.7                       42.1         84.6   \n",
       "5        249.2          139.0                      107.8        180.8   \n",
       "7         45.0           21.6                        8.6         25.7   \n",
       "...        ...            ...                        ...          ...   \n",
       "4736     348.3          180.8                      115.9        233.6   \n",
       "4738     222.3          140.2                       86.0        177.0   \n",
       "4739     305.7          160.9                      103.6        204.0   \n",
       "4741      81.2           33.2                       24.9         56.2   \n",
       "4742      42.6           19.9                       12.2         29.6   \n",
       "\n",
       "      Ontario  Prince Edward Island  Quebec  Saskatchewan  \n",
       "1      1426.7                  16.5   879.5         131.9  \n",
       "2      2280.7                  26.2  1665.9         237.6  \n",
       "4      1084.1                  12.7   727.0          93.3  \n",
       "5      2124.9                  24.5  1588.7         218.9  \n",
       "7       342.6                   3.8   152.6          38.6  \n",
       "...       ...                   ...     ...           ...  \n",
       "4736   3920.1                  40.4  2250.3         313.3  \n",
       "4738   2708.6                  30.6  1575.1         197.7  \n",
       "4739   3411.6                  36.2  1939.4         277.5  \n",
       "4741    889.7                   8.0   499.5          70.2  \n",
       "4742    508.5                   4.1   311.0          35.8  \n",
       "\n",
       "[3162 rows x 13 columns]"
      ]
     },
     "execution_count": 35,
     "metadata": {},
     "output_type": "execute_result"
    }
   ],
   "source": [
    "employment.loc[lambda x : (x['sex'] != 'Both sexes')]"
   ]
  },
  {
   "cell_type": "code",
   "execution_count": 52,
   "id": "6605577a",
   "metadata": {},
   "outputs": [],
   "source": [
    "males = employment.loc[lambda x : x['sex'] == 'Males'].loc[lambda x : x['variable'] == 'Employment']\n",
    "females = employment.loc[lambda x : x['sex'] == 'Females'].loc[lambda x : x['variable'] == 'Employment']"
   ]
  },
  {
   "cell_type": "code",
   "execution_count": 53,
   "id": "0c21d335",
   "metadata": {},
   "outputs": [
    {
     "data": {
      "text/html": [
       "<div>\n",
       "<style scoped>\n",
       "    .dataframe tbody tr th:only-of-type {\n",
       "        vertical-align: middle;\n",
       "    }\n",
       "\n",
       "    .dataframe tbody tr th {\n",
       "        vertical-align: top;\n",
       "    }\n",
       "\n",
       "    .dataframe thead th {\n",
       "        text-align: right;\n",
       "    }\n",
       "</style>\n",
       "<table border=\"1\" class=\"dataframe\">\n",
       "  <thead>\n",
       "    <tr style=\"text-align: right;\">\n",
       "      <th></th>\n",
       "      <th>month</th>\n",
       "      <th>variable</th>\n",
       "      <th>sex</th>\n",
       "      <th>Alberta</th>\n",
       "      <th>British Columbia</th>\n",
       "      <th>Manitoba</th>\n",
       "      <th>New Brunswick</th>\n",
       "      <th>Newfoundland and Labrador</th>\n",
       "      <th>Nova Scotia</th>\n",
       "      <th>Ontario</th>\n",
       "      <th>Prince Edward Island</th>\n",
       "      <th>Quebec</th>\n",
       "      <th>Saskatchewan</th>\n",
       "    </tr>\n",
       "  </thead>\n",
       "  <tbody>\n",
       "    <tr>\n",
       "      <th>2</th>\n",
       "      <td>1976-01</td>\n",
       "      <td>Employment</td>\n",
       "      <td>Males</td>\n",
       "      <td>512.5</td>\n",
       "      <td>650.4</td>\n",
       "      <td>262.6</td>\n",
       "      <td>145.3</td>\n",
       "      <td>111.6</td>\n",
       "      <td>192.7</td>\n",
       "      <td>2280.7</td>\n",
       "      <td>26.2</td>\n",
       "      <td>1665.9</td>\n",
       "      <td>237.6</td>\n",
       "    </tr>\n",
       "    <tr>\n",
       "      <th>11</th>\n",
       "      <td>1976-02</td>\n",
       "      <td>Employment</td>\n",
       "      <td>Males</td>\n",
       "      <td>517.8</td>\n",
       "      <td>652.6</td>\n",
       "      <td>265.7</td>\n",
       "      <td>148.0</td>\n",
       "      <td>110.4</td>\n",
       "      <td>190.4</td>\n",
       "      <td>2283.9</td>\n",
       "      <td>26.5</td>\n",
       "      <td>1659.5</td>\n",
       "      <td>242.3</td>\n",
       "    </tr>\n",
       "    <tr>\n",
       "      <th>20</th>\n",
       "      <td>1976-03</td>\n",
       "      <td>Employment</td>\n",
       "      <td>Males</td>\n",
       "      <td>523.7</td>\n",
       "      <td>658.6</td>\n",
       "      <td>270.2</td>\n",
       "      <td>148.3</td>\n",
       "      <td>111.8</td>\n",
       "      <td>191.6</td>\n",
       "      <td>2287.3</td>\n",
       "      <td>26.8</td>\n",
       "      <td>1659.5</td>\n",
       "      <td>241.5</td>\n",
       "    </tr>\n",
       "    <tr>\n",
       "      <th>29</th>\n",
       "      <td>1976-04</td>\n",
       "      <td>Employment</td>\n",
       "      <td>Males</td>\n",
       "      <td>527.3</td>\n",
       "      <td>658.5</td>\n",
       "      <td>268.3</td>\n",
       "      <td>150.1</td>\n",
       "      <td>111.3</td>\n",
       "      <td>192.6</td>\n",
       "      <td>2303.7</td>\n",
       "      <td>26.8</td>\n",
       "      <td>1660.8</td>\n",
       "      <td>245.8</td>\n",
       "    </tr>\n",
       "    <tr>\n",
       "      <th>38</th>\n",
       "      <td>1976-05</td>\n",
       "      <td>Employment</td>\n",
       "      <td>Males</td>\n",
       "      <td>532.4</td>\n",
       "      <td>656.6</td>\n",
       "      <td>268.0</td>\n",
       "      <td>147.8</td>\n",
       "      <td>110.9</td>\n",
       "      <td>191.3</td>\n",
       "      <td>2296.4</td>\n",
       "      <td>27.0</td>\n",
       "      <td>1648.7</td>\n",
       "      <td>246.9</td>\n",
       "    </tr>\n",
       "    <tr>\n",
       "      <th>...</th>\n",
       "      <td>...</td>\n",
       "      <td>...</td>\n",
       "      <td>...</td>\n",
       "      <td>...</td>\n",
       "      <td>...</td>\n",
       "      <td>...</td>\n",
       "      <td>...</td>\n",
       "      <td>...</td>\n",
       "      <td>...</td>\n",
       "      <td>...</td>\n",
       "      <td>...</td>\n",
       "      <td>...</td>\n",
       "      <td>...</td>\n",
       "    </tr>\n",
       "    <tr>\n",
       "      <th>4700</th>\n",
       "      <td>2019-07</td>\n",
       "      <td>Employment</td>\n",
       "      <td>Males</td>\n",
       "      <td>1266.4</td>\n",
       "      <td>1335.5</td>\n",
       "      <td>345.9</td>\n",
       "      <td>180.0</td>\n",
       "      <td>116.8</td>\n",
       "      <td>231.6</td>\n",
       "      <td>3896.9</td>\n",
       "      <td>39.8</td>\n",
       "      <td>2271.0</td>\n",
       "      <td>314.9</td>\n",
       "    </tr>\n",
       "    <tr>\n",
       "      <th>4709</th>\n",
       "      <td>2019-08</td>\n",
       "      <td>Employment</td>\n",
       "      <td>Males</td>\n",
       "      <td>1263.7</td>\n",
       "      <td>1334.1</td>\n",
       "      <td>348.5</td>\n",
       "      <td>180.6</td>\n",
       "      <td>117.0</td>\n",
       "      <td>232.2</td>\n",
       "      <td>3917.5</td>\n",
       "      <td>39.7</td>\n",
       "      <td>2278.2</td>\n",
       "      <td>315.6</td>\n",
       "    </tr>\n",
       "    <tr>\n",
       "      <th>4718</th>\n",
       "      <td>2019-09</td>\n",
       "      <td>Employment</td>\n",
       "      <td>Males</td>\n",
       "      <td>1261.0</td>\n",
       "      <td>1326.9</td>\n",
       "      <td>348.7</td>\n",
       "      <td>180.1</td>\n",
       "      <td>116.3</td>\n",
       "      <td>233.4</td>\n",
       "      <td>3936.1</td>\n",
       "      <td>40.1</td>\n",
       "      <td>2281.4</td>\n",
       "      <td>316.2</td>\n",
       "    </tr>\n",
       "    <tr>\n",
       "      <th>4727</th>\n",
       "      <td>2019-10</td>\n",
       "      <td>Employment</td>\n",
       "      <td>Males</td>\n",
       "      <td>1264.1</td>\n",
       "      <td>1339.4</td>\n",
       "      <td>348.6</td>\n",
       "      <td>180.4</td>\n",
       "      <td>117.3</td>\n",
       "      <td>233.9</td>\n",
       "      <td>3914.2</td>\n",
       "      <td>40.3</td>\n",
       "      <td>2282.3</td>\n",
       "      <td>314.9</td>\n",
       "    </tr>\n",
       "    <tr>\n",
       "      <th>4736</th>\n",
       "      <td>2019-11</td>\n",
       "      <td>Employment</td>\n",
       "      <td>Males</td>\n",
       "      <td>1261.7</td>\n",
       "      <td>1333.7</td>\n",
       "      <td>348.3</td>\n",
       "      <td>180.8</td>\n",
       "      <td>115.9</td>\n",
       "      <td>233.6</td>\n",
       "      <td>3920.1</td>\n",
       "      <td>40.4</td>\n",
       "      <td>2250.3</td>\n",
       "      <td>313.3</td>\n",
       "    </tr>\n",
       "  </tbody>\n",
       "</table>\n",
       "<p>527 rows × 13 columns</p>\n",
       "</div>"
      ],
      "text/plain": [
       "        month    variable    sex  Alberta  British Columbia  Manitoba  \\\n",
       "2     1976-01  Employment  Males    512.5             650.4     262.6   \n",
       "11    1976-02  Employment  Males    517.8             652.6     265.7   \n",
       "20    1976-03  Employment  Males    523.7             658.6     270.2   \n",
       "29    1976-04  Employment  Males    527.3             658.5     268.3   \n",
       "38    1976-05  Employment  Males    532.4             656.6     268.0   \n",
       "...       ...         ...    ...      ...               ...       ...   \n",
       "4700  2019-07  Employment  Males   1266.4            1335.5     345.9   \n",
       "4709  2019-08  Employment  Males   1263.7            1334.1     348.5   \n",
       "4718  2019-09  Employment  Males   1261.0            1326.9     348.7   \n",
       "4727  2019-10  Employment  Males   1264.1            1339.4     348.6   \n",
       "4736  2019-11  Employment  Males   1261.7            1333.7     348.3   \n",
       "\n",
       "      New Brunswick  Newfoundland and Labrador  Nova Scotia  Ontario  \\\n",
       "2             145.3                      111.6        192.7   2280.7   \n",
       "11            148.0                      110.4        190.4   2283.9   \n",
       "20            148.3                      111.8        191.6   2287.3   \n",
       "29            150.1                      111.3        192.6   2303.7   \n",
       "38            147.8                      110.9        191.3   2296.4   \n",
       "...             ...                        ...          ...      ...   \n",
       "4700          180.0                      116.8        231.6   3896.9   \n",
       "4709          180.6                      117.0        232.2   3917.5   \n",
       "4718          180.1                      116.3        233.4   3936.1   \n",
       "4727          180.4                      117.3        233.9   3914.2   \n",
       "4736          180.8                      115.9        233.6   3920.1   \n",
       "\n",
       "      Prince Edward Island  Quebec  Saskatchewan  \n",
       "2                     26.2  1665.9         237.6  \n",
       "11                    26.5  1659.5         242.3  \n",
       "20                    26.8  1659.5         241.5  \n",
       "29                    26.8  1660.8         245.8  \n",
       "38                    27.0  1648.7         246.9  \n",
       "...                    ...     ...           ...  \n",
       "4700                  39.8  2271.0         314.9  \n",
       "4709                  39.7  2278.2         315.6  \n",
       "4718                  40.1  2281.4         316.2  \n",
       "4727                  40.3  2282.3         314.9  \n",
       "4736                  40.4  2250.3         313.3  \n",
       "\n",
       "[527 rows x 13 columns]"
      ]
     },
     "execution_count": 53,
     "metadata": {},
     "output_type": "execute_result"
    }
   ],
   "source": [
    "males"
   ]
  },
  {
   "cell_type": "code",
   "execution_count": 54,
   "id": "01497ad1",
   "metadata": {},
   "outputs": [
    {
     "data": {
      "text/html": [
       "<div>\n",
       "<style scoped>\n",
       "    .dataframe tbody tr th:only-of-type {\n",
       "        vertical-align: middle;\n",
       "    }\n",
       "\n",
       "    .dataframe tbody tr th {\n",
       "        vertical-align: top;\n",
       "    }\n",
       "\n",
       "    .dataframe thead th {\n",
       "        text-align: right;\n",
       "    }\n",
       "</style>\n",
       "<table border=\"1\" class=\"dataframe\">\n",
       "  <thead>\n",
       "    <tr style=\"text-align: right;\">\n",
       "      <th></th>\n",
       "      <th>month</th>\n",
       "      <th>variable</th>\n",
       "      <th>sex</th>\n",
       "      <th>Alberta</th>\n",
       "      <th>British Columbia</th>\n",
       "      <th>Manitoba</th>\n",
       "      <th>New Brunswick</th>\n",
       "      <th>Newfoundland and Labrador</th>\n",
       "      <th>Nova Scotia</th>\n",
       "      <th>Ontario</th>\n",
       "      <th>Prince Edward Island</th>\n",
       "      <th>Quebec</th>\n",
       "      <th>Saskatchewan</th>\n",
       "    </tr>\n",
       "  </thead>\n",
       "  <tbody>\n",
       "    <tr>\n",
       "      <th>1</th>\n",
       "      <td>1976-01</td>\n",
       "      <td>Employment</td>\n",
       "      <td>Females</td>\n",
       "      <td>307.1</td>\n",
       "      <td>379.3</td>\n",
       "      <td>164.9</td>\n",
       "      <td>84.3</td>\n",
       "      <td>50.8</td>\n",
       "      <td>110.3</td>\n",
       "      <td>1426.7</td>\n",
       "      <td>16.5</td>\n",
       "      <td>879.5</td>\n",
       "      <td>131.9</td>\n",
       "    </tr>\n",
       "    <tr>\n",
       "      <th>10</th>\n",
       "      <td>1976-02</td>\n",
       "      <td>Employment</td>\n",
       "      <td>Females</td>\n",
       "      <td>312.9</td>\n",
       "      <td>389.0</td>\n",
       "      <td>159.7</td>\n",
       "      <td>84.9</td>\n",
       "      <td>50.8</td>\n",
       "      <td>109.8</td>\n",
       "      <td>1429.5</td>\n",
       "      <td>16.2</td>\n",
       "      <td>876.9</td>\n",
       "      <td>133.2</td>\n",
       "    </tr>\n",
       "    <tr>\n",
       "      <th>19</th>\n",
       "      <td>1976-03</td>\n",
       "      <td>Employment</td>\n",
       "      <td>Females</td>\n",
       "      <td>318.1</td>\n",
       "      <td>389.0</td>\n",
       "      <td>161.9</td>\n",
       "      <td>82.4</td>\n",
       "      <td>49.9</td>\n",
       "      <td>109.7</td>\n",
       "      <td>1441.1</td>\n",
       "      <td>16.8</td>\n",
       "      <td>885.8</td>\n",
       "      <td>130.3</td>\n",
       "    </tr>\n",
       "    <tr>\n",
       "      <th>28</th>\n",
       "      <td>1976-04</td>\n",
       "      <td>Employment</td>\n",
       "      <td>Females</td>\n",
       "      <td>318.8</td>\n",
       "      <td>390.0</td>\n",
       "      <td>166.9</td>\n",
       "      <td>82.9</td>\n",
       "      <td>50.0</td>\n",
       "      <td>110.1</td>\n",
       "      <td>1432.0</td>\n",
       "      <td>16.1</td>\n",
       "      <td>891.3</td>\n",
       "      <td>134.7</td>\n",
       "    </tr>\n",
       "    <tr>\n",
       "      <th>37</th>\n",
       "      <td>1976-05</td>\n",
       "      <td>Employment</td>\n",
       "      <td>Females</td>\n",
       "      <td>317.0</td>\n",
       "      <td>391.8</td>\n",
       "      <td>164.4</td>\n",
       "      <td>82.9</td>\n",
       "      <td>49.7</td>\n",
       "      <td>106.8</td>\n",
       "      <td>1437.9</td>\n",
       "      <td>15.8</td>\n",
       "      <td>898.9</td>\n",
       "      <td>135.1</td>\n",
       "    </tr>\n",
       "    <tr>\n",
       "      <th>...</th>\n",
       "      <td>...</td>\n",
       "      <td>...</td>\n",
       "      <td>...</td>\n",
       "      <td>...</td>\n",
       "      <td>...</td>\n",
       "      <td>...</td>\n",
       "      <td>...</td>\n",
       "      <td>...</td>\n",
       "      <td>...</td>\n",
       "      <td>...</td>\n",
       "      <td>...</td>\n",
       "      <td>...</td>\n",
       "      <td>...</td>\n",
       "    </tr>\n",
       "    <tr>\n",
       "      <th>4699</th>\n",
       "      <td>2019-07</td>\n",
       "      <td>Employment</td>\n",
       "      <td>Females</td>\n",
       "      <td>1077.3</td>\n",
       "      <td>1234.4</td>\n",
       "      <td>303.7</td>\n",
       "      <td>175.0</td>\n",
       "      <td>108.4</td>\n",
       "      <td>230.5</td>\n",
       "      <td>3523.3</td>\n",
       "      <td>38.8</td>\n",
       "      <td>2075.3</td>\n",
       "      <td>264.8</td>\n",
       "    </tr>\n",
       "    <tr>\n",
       "      <th>4708</th>\n",
       "      <td>2019-08</td>\n",
       "      <td>Employment</td>\n",
       "      <td>Females</td>\n",
       "      <td>1080.6</td>\n",
       "      <td>1227.5</td>\n",
       "      <td>306.2</td>\n",
       "      <td>176.7</td>\n",
       "      <td>107.8</td>\n",
       "      <td>231.5</td>\n",
       "      <td>3560.6</td>\n",
       "      <td>38.7</td>\n",
       "      <td>2087.7</td>\n",
       "      <td>266.9</td>\n",
       "    </tr>\n",
       "    <tr>\n",
       "      <th>4717</th>\n",
       "      <td>2019-09</td>\n",
       "      <td>Employment</td>\n",
       "      <td>Females</td>\n",
       "      <td>1088.2</td>\n",
       "      <td>1226.2</td>\n",
       "      <td>305.6</td>\n",
       "      <td>175.7</td>\n",
       "      <td>108.7</td>\n",
       "      <td>233.4</td>\n",
       "      <td>3583.1</td>\n",
       "      <td>38.8</td>\n",
       "      <td>2098.2</td>\n",
       "      <td>266.9</td>\n",
       "    </tr>\n",
       "    <tr>\n",
       "      <th>4726</th>\n",
       "      <td>2019-10</td>\n",
       "      <td>Employment</td>\n",
       "      <td>Females</td>\n",
       "      <td>1092.8</td>\n",
       "      <td>1229.2</td>\n",
       "      <td>304.8</td>\n",
       "      <td>174.2</td>\n",
       "      <td>110.4</td>\n",
       "      <td>233.5</td>\n",
       "      <td>3588.8</td>\n",
       "      <td>38.6</td>\n",
       "      <td>2087.8</td>\n",
       "      <td>268.0</td>\n",
       "    </tr>\n",
       "    <tr>\n",
       "      <th>4735</th>\n",
       "      <td>2019-11</td>\n",
       "      <td>Employment</td>\n",
       "      <td>Females</td>\n",
       "      <td>1077.0</td>\n",
       "      <td>1216.6</td>\n",
       "      <td>303.5</td>\n",
       "      <td>173.5</td>\n",
       "      <td>110.9</td>\n",
       "      <td>233.2</td>\n",
       "      <td>3598.3</td>\n",
       "      <td>38.6</td>\n",
       "      <td>2074.6</td>\n",
       "      <td>267.9</td>\n",
       "    </tr>\n",
       "  </tbody>\n",
       "</table>\n",
       "<p>527 rows × 13 columns</p>\n",
       "</div>"
      ],
      "text/plain": [
       "        month    variable      sex  Alberta  British Columbia  Manitoba  \\\n",
       "1     1976-01  Employment  Females    307.1             379.3     164.9   \n",
       "10    1976-02  Employment  Females    312.9             389.0     159.7   \n",
       "19    1976-03  Employment  Females    318.1             389.0     161.9   \n",
       "28    1976-04  Employment  Females    318.8             390.0     166.9   \n",
       "37    1976-05  Employment  Females    317.0             391.8     164.4   \n",
       "...       ...         ...      ...      ...               ...       ...   \n",
       "4699  2019-07  Employment  Females   1077.3            1234.4     303.7   \n",
       "4708  2019-08  Employment  Females   1080.6            1227.5     306.2   \n",
       "4717  2019-09  Employment  Females   1088.2            1226.2     305.6   \n",
       "4726  2019-10  Employment  Females   1092.8            1229.2     304.8   \n",
       "4735  2019-11  Employment  Females   1077.0            1216.6     303.5   \n",
       "\n",
       "      New Brunswick  Newfoundland and Labrador  Nova Scotia  Ontario  \\\n",
       "1              84.3                       50.8        110.3   1426.7   \n",
       "10             84.9                       50.8        109.8   1429.5   \n",
       "19             82.4                       49.9        109.7   1441.1   \n",
       "28             82.9                       50.0        110.1   1432.0   \n",
       "37             82.9                       49.7        106.8   1437.9   \n",
       "...             ...                        ...          ...      ...   \n",
       "4699          175.0                      108.4        230.5   3523.3   \n",
       "4708          176.7                      107.8        231.5   3560.6   \n",
       "4717          175.7                      108.7        233.4   3583.1   \n",
       "4726          174.2                      110.4        233.5   3588.8   \n",
       "4735          173.5                      110.9        233.2   3598.3   \n",
       "\n",
       "      Prince Edward Island  Quebec  Saskatchewan  \n",
       "1                     16.5   879.5         131.9  \n",
       "10                    16.2   876.9         133.2  \n",
       "19                    16.8   885.8         130.3  \n",
       "28                    16.1   891.3         134.7  \n",
       "37                    15.8   898.9         135.1  \n",
       "...                    ...     ...           ...  \n",
       "4699                  38.8  2075.3         264.8  \n",
       "4708                  38.7  2087.7         266.9  \n",
       "4717                  38.8  2098.2         266.9  \n",
       "4726                  38.6  2087.8         268.0  \n",
       "4735                  38.6  2074.6         267.9  \n",
       "\n",
       "[527 rows x 13 columns]"
      ]
     },
     "execution_count": 54,
     "metadata": {},
     "output_type": "execute_result"
    }
   ],
   "source": [
    "females"
   ]
  },
  {
   "cell_type": "code",
   "execution_count": 68,
   "id": "83500829",
   "metadata": {},
   "outputs": [
    {
     "data": {
      "image/png": "[encoded data removed]",
      "text/plain": [
       "<Figure size 640x480 with 1 Axes>"
      ]
     },
     "metadata": {},
     "output_type": "display_data"
    }
   ],
   "source": [
    "import matplotlib.pyplot as plt\n",
    "\n",
    "fig_m = plt.figure()\n",
    "\n",
    "males.plot(x='month', logy=True, ax = fig_m.gca())\n",
    "plt.legend(loc='center left', bbox_to_anchor=(1.0, 0.5))\n",
    "plt.show()"
   ]
  },
  {
   "cell_type": "code",
   "execution_count": 65,
   "id": "87b4ac1c",
   "metadata": {},
   "outputs": [
    {
     "data": {
      "image/png": "[encoded data removed]",
      "text/plain": [
       "<Figure size 640x480 with 1 Axes>"
      ]
     },
     "metadata": {},
     "output_type": "display_data"
    }
   ],
   "source": [
    "fig_f = plt.figure()\n",
    "\n",
    "females.plot(logy=True, ax = fig_f.gca())\n",
    "plt.legend(loc='center left', bbox_to_anchor=(1.0, 0.5))\n",
    "plt.show()"
   ]
  },
  {
   "cell_type": "code",
   "execution_count": 73,
   "id": "a9a81f7b",
   "metadata": {},
   "outputs": [
    {
     "data": {
      "text/html": [
       "<div>\n",
       "<style scoped>\n",
       "    .dataframe tbody tr th:only-of-type {\n",
       "        vertical-align: middle;\n",
       "    }\n",
       "\n",
       "    .dataframe tbody tr th {\n",
       "        vertical-align: top;\n",
       "    }\n",
       "\n",
       "    .dataframe thead th {\n",
       "        text-align: right;\n",
       "    }\n",
       "</style>\n",
       "<table border=\"1\" class=\"dataframe\">\n",
       "  <thead>\n",
       "    <tr style=\"text-align: right;\">\n",
       "      <th></th>\n",
       "      <th>month</th>\n",
       "      <th>sex</th>\n",
       "      <th>employment</th>\n",
       "    </tr>\n",
       "  </thead>\n",
       "  <tbody>\n",
       "    <tr>\n",
       "      <th>2</th>\n",
       "      <td>1976-01</td>\n",
       "      <td>Males</td>\n",
       "      <td>2280.7</td>\n",
       "    </tr>\n",
       "    <tr>\n",
       "      <th>11</th>\n",
       "      <td>1976-02</td>\n",
       "      <td>Males</td>\n",
       "      <td>2283.9</td>\n",
       "    </tr>\n",
       "    <tr>\n",
       "      <th>20</th>\n",
       "      <td>1976-03</td>\n",
       "      <td>Males</td>\n",
       "      <td>2287.3</td>\n",
       "    </tr>\n",
       "    <tr>\n",
       "      <th>29</th>\n",
       "      <td>1976-04</td>\n",
       "      <td>Males</td>\n",
       "      <td>2303.7</td>\n",
       "    </tr>\n",
       "    <tr>\n",
       "      <th>38</th>\n",
       "      <td>1976-05</td>\n",
       "      <td>Males</td>\n",
       "      <td>2296.4</td>\n",
       "    </tr>\n",
       "    <tr>\n",
       "      <th>...</th>\n",
       "      <td>...</td>\n",
       "      <td>...</td>\n",
       "      <td>...</td>\n",
       "    </tr>\n",
       "    <tr>\n",
       "      <th>4700</th>\n",
       "      <td>2019-07</td>\n",
       "      <td>Males</td>\n",
       "      <td>3896.9</td>\n",
       "    </tr>\n",
       "    <tr>\n",
       "      <th>4709</th>\n",
       "      <td>2019-08</td>\n",
       "      <td>Males</td>\n",
       "      <td>3917.5</td>\n",
       "    </tr>\n",
       "    <tr>\n",
       "      <th>4718</th>\n",
       "      <td>2019-09</td>\n",
       "      <td>Males</td>\n",
       "      <td>3936.1</td>\n",
       "    </tr>\n",
       "    <tr>\n",
       "      <th>4727</th>\n",
       "      <td>2019-10</td>\n",
       "      <td>Males</td>\n",
       "      <td>3914.2</td>\n",
       "    </tr>\n",
       "    <tr>\n",
       "      <th>4736</th>\n",
       "      <td>2019-11</td>\n",
       "      <td>Males</td>\n",
       "      <td>3920.1</td>\n",
       "    </tr>\n",
       "  </tbody>\n",
       "</table>\n",
       "<p>527 rows × 3 columns</p>\n",
       "</div>"
      ],
      "text/plain": [
       "        month    sex  employment\n",
       "2     1976-01  Males      2280.7\n",
       "11    1976-02  Males      2283.9\n",
       "20    1976-03  Males      2287.3\n",
       "29    1976-04  Males      2303.7\n",
       "38    1976-05  Males      2296.4\n",
       "...       ...    ...         ...\n",
       "4700  2019-07  Males      3896.9\n",
       "4709  2019-08  Males      3917.5\n",
       "4718  2019-09  Males      3936.1\n",
       "4727  2019-10  Males      3914.2\n",
       "4736  2019-11  Males      3920.1\n",
       "\n",
       "[527 rows x 3 columns]"
      ]
     },
     "execution_count": 73,
     "metadata": {},
     "output_type": "execute_result"
    }
   ],
   "source": [
    "ontario_m = males[['month', 'sex', 'Ontario']].rename(columns={'Ontario': 'employment'})\n",
    "ontario_m"
   ]
  },
  {
   "cell_type": "code",
   "execution_count": 74,
   "id": "51d89379",
   "metadata": {},
   "outputs": [
    {
     "data": {
      "text/html": [
       "<div>\n",
       "<style scoped>\n",
       "    .dataframe tbody tr th:only-of-type {\n",
       "        vertical-align: middle;\n",
       "    }\n",
       "\n",
       "    .dataframe tbody tr th {\n",
       "        vertical-align: top;\n",
       "    }\n",
       "\n",
       "    .dataframe thead th {\n",
       "        text-align: right;\n",
       "    }\n",
       "</style>\n",
       "<table border=\"1\" class=\"dataframe\">\n",
       "  <thead>\n",
       "    <tr style=\"text-align: right;\">\n",
       "      <th></th>\n",
       "      <th>month</th>\n",
       "      <th>sex</th>\n",
       "      <th>employment</th>\n",
       "    </tr>\n",
       "  </thead>\n",
       "  <tbody>\n",
       "    <tr>\n",
       "      <th>1</th>\n",
       "      <td>1976-01</td>\n",
       "      <td>Females</td>\n",
       "      <td>1426.7</td>\n",
       "    </tr>\n",
       "    <tr>\n",
       "      <th>10</th>\n",
       "      <td>1976-02</td>\n",
       "      <td>Females</td>\n",
       "      <td>1429.5</td>\n",
       "    </tr>\n",
       "    <tr>\n",
       "      <th>19</th>\n",
       "      <td>1976-03</td>\n",
       "      <td>Females</td>\n",
       "      <td>1441.1</td>\n",
       "    </tr>\n",
       "    <tr>\n",
       "      <th>28</th>\n",
       "      <td>1976-04</td>\n",
       "      <td>Females</td>\n",
       "      <td>1432.0</td>\n",
       "    </tr>\n",
       "    <tr>\n",
       "      <th>37</th>\n",
       "      <td>1976-05</td>\n",
       "      <td>Females</td>\n",
       "      <td>1437.9</td>\n",
       "    </tr>\n",
       "    <tr>\n",
       "      <th>...</th>\n",
       "      <td>...</td>\n",
       "      <td>...</td>\n",
       "      <td>...</td>\n",
       "    </tr>\n",
       "    <tr>\n",
       "      <th>4699</th>\n",
       "      <td>2019-07</td>\n",
       "      <td>Females</td>\n",
       "      <td>3523.3</td>\n",
       "    </tr>\n",
       "    <tr>\n",
       "      <th>4708</th>\n",
       "      <td>2019-08</td>\n",
       "      <td>Females</td>\n",
       "      <td>3560.6</td>\n",
       "    </tr>\n",
       "    <tr>\n",
       "      <th>4717</th>\n",
       "      <td>2019-09</td>\n",
       "      <td>Females</td>\n",
       "      <td>3583.1</td>\n",
       "    </tr>\n",
       "    <tr>\n",
       "      <th>4726</th>\n",
       "      <td>2019-10</td>\n",
       "      <td>Females</td>\n",
       "      <td>3588.8</td>\n",
       "    </tr>\n",
       "    <tr>\n",
       "      <th>4735</th>\n",
       "      <td>2019-11</td>\n",
       "      <td>Females</td>\n",
       "      <td>3598.3</td>\n",
       "    </tr>\n",
       "  </tbody>\n",
       "</table>\n",
       "<p>527 rows × 3 columns</p>\n",
       "</div>"
      ],
      "text/plain": [
       "        month      sex  employment\n",
       "1     1976-01  Females      1426.7\n",
       "10    1976-02  Females      1429.5\n",
       "19    1976-03  Females      1441.1\n",
       "28    1976-04  Females      1432.0\n",
       "37    1976-05  Females      1437.9\n",
       "...       ...      ...         ...\n",
       "4699  2019-07  Females      3523.3\n",
       "4708  2019-08  Females      3560.6\n",
       "4717  2019-09  Females      3583.1\n",
       "4726  2019-10  Females      3588.8\n",
       "4735  2019-11  Females      3598.3\n",
       "\n",
       "[527 rows x 3 columns]"
      ]
     },
     "execution_count": 74,
     "metadata": {},
     "output_type": "execute_result"
    }
   ],
   "source": [
    "ontario_f = females[['month', 'sex', 'Ontario']].rename(columns={'Ontario': 'employment'})\n",
    "ontario_f"
   ]
  },
  {
   "cell_type": "code",
   "execution_count": 87,
   "id": "8b745903",
   "metadata": {},
   "outputs": [
    {
     "data": {
      "text/html": [
       "<div>\n",
       "<style scoped>\n",
       "    .dataframe tbody tr th:only-of-type {\n",
       "        vertical-align: middle;\n",
       "    }\n",
       "\n",
       "    .dataframe tbody tr th {\n",
       "        vertical-align: top;\n",
       "    }\n",
       "\n",
       "    .dataframe thead th {\n",
       "        text-align: right;\n",
       "    }\n",
       "</style>\n",
       "<table border=\"1\" class=\"dataframe\">\n",
       "  <thead>\n",
       "    <tr style=\"text-align: right;\">\n",
       "      <th></th>\n",
       "      <th>month</th>\n",
       "      <th>employment_m</th>\n",
       "      <th>employment_f</th>\n",
       "    </tr>\n",
       "  </thead>\n",
       "  <tbody>\n",
       "    <tr>\n",
       "      <th>2</th>\n",
       "      <td>1976-01</td>\n",
       "      <td>2280.7</td>\n",
       "      <td>1426.7</td>\n",
       "    </tr>\n",
       "    <tr>\n",
       "      <th>11</th>\n",
       "      <td>1976-02</td>\n",
       "      <td>2283.9</td>\n",
       "      <td>1429.5</td>\n",
       "    </tr>\n",
       "    <tr>\n",
       "      <th>20</th>\n",
       "      <td>1976-03</td>\n",
       "      <td>2287.3</td>\n",
       "      <td>1441.1</td>\n",
       "    </tr>\n",
       "    <tr>\n",
       "      <th>29</th>\n",
       "      <td>1976-04</td>\n",
       "      <td>2303.7</td>\n",
       "      <td>1432.0</td>\n",
       "    </tr>\n",
       "    <tr>\n",
       "      <th>38</th>\n",
       "      <td>1976-05</td>\n",
       "      <td>2296.4</td>\n",
       "      <td>1437.9</td>\n",
       "    </tr>\n",
       "    <tr>\n",
       "      <th>...</th>\n",
       "      <td>...</td>\n",
       "      <td>...</td>\n",
       "      <td>...</td>\n",
       "    </tr>\n",
       "    <tr>\n",
       "      <th>4700</th>\n",
       "      <td>2019-07</td>\n",
       "      <td>3896.9</td>\n",
       "      <td>3523.3</td>\n",
       "    </tr>\n",
       "    <tr>\n",
       "      <th>4709</th>\n",
       "      <td>2019-08</td>\n",
       "      <td>3917.5</td>\n",
       "      <td>3560.6</td>\n",
       "    </tr>\n",
       "    <tr>\n",
       "      <th>4718</th>\n",
       "      <td>2019-09</td>\n",
       "      <td>3936.1</td>\n",
       "      <td>3583.1</td>\n",
       "    </tr>\n",
       "    <tr>\n",
       "      <th>4727</th>\n",
       "      <td>2019-10</td>\n",
       "      <td>3914.2</td>\n",
       "      <td>3588.8</td>\n",
       "    </tr>\n",
       "    <tr>\n",
       "      <th>4736</th>\n",
       "      <td>2019-11</td>\n",
       "      <td>3920.1</td>\n",
       "      <td>3598.3</td>\n",
       "    </tr>\n",
       "  </tbody>\n",
       "</table>\n",
       "<p>527 rows × 3 columns</p>\n",
       "</div>"
      ],
      "text/plain": [
       "        month  employment_m  employment_f\n",
       "2     1976-01        2280.7        1426.7\n",
       "11    1976-02        2283.9        1429.5\n",
       "20    1976-03        2287.3        1441.1\n",
       "29    1976-04        2303.7        1432.0\n",
       "38    1976-05        2296.4        1437.9\n",
       "...       ...           ...           ...\n",
       "4700  2019-07        3896.9        3523.3\n",
       "4709  2019-08        3917.5        3560.6\n",
       "4718  2019-09        3936.1        3583.1\n",
       "4727  2019-10        3914.2        3588.8\n",
       "4736  2019-11        3920.1        3598.3\n",
       "\n",
       "[527 rows x 3 columns]"
      ]
     },
     "execution_count": 87,
     "metadata": {},
     "output_type": "execute_result"
    }
   ],
   "source": [
    "ontario = ontario_m.join(ontario_f.set_index('month'), on='month', lsuffix='_m', rsuffix='_f').drop(columns=['sex_m', 'sex_f'])\n",
    "ontario"
   ]
  },
  {
   "cell_type": "code",
   "execution_count": 89,
   "id": "ab24671c",
   "metadata": {},
   "outputs": [
    {
     "data": {
      "text/html": [
       "<div>\n",
       "<style scoped>\n",
       "    .dataframe tbody tr th:only-of-type {\n",
       "        vertical-align: middle;\n",
       "    }\n",
       "\n",
       "    .dataframe tbody tr th {\n",
       "        vertical-align: top;\n",
       "    }\n",
       "\n",
       "    .dataframe thead th {\n",
       "        text-align: right;\n",
       "    }\n",
       "</style>\n",
       "<table border=\"1\" class=\"dataframe\">\n",
       "  <thead>\n",
       "    <tr style=\"text-align: right;\">\n",
       "      <th></th>\n",
       "      <th>month</th>\n",
       "      <th>employment_m</th>\n",
       "      <th>employment_f</th>\n",
       "      <th>ratio</th>\n",
       "    </tr>\n",
       "  </thead>\n",
       "  <tbody>\n",
       "    <tr>\n",
       "      <th>2</th>\n",
       "      <td>1976-01</td>\n",
       "      <td>2280.7</td>\n",
       "      <td>1426.7</td>\n",
       "      <td>0.625554</td>\n",
       "    </tr>\n",
       "    <tr>\n",
       "      <th>11</th>\n",
       "      <td>1976-02</td>\n",
       "      <td>2283.9</td>\n",
       "      <td>1429.5</td>\n",
       "      <td>0.625903</td>\n",
       "    </tr>\n",
       "    <tr>\n",
       "      <th>20</th>\n",
       "      <td>1976-03</td>\n",
       "      <td>2287.3</td>\n",
       "      <td>1441.1</td>\n",
       "      <td>0.630044</td>\n",
       "    </tr>\n",
       "    <tr>\n",
       "      <th>29</th>\n",
       "      <td>1976-04</td>\n",
       "      <td>2303.7</td>\n",
       "      <td>1432.0</td>\n",
       "      <td>0.621609</td>\n",
       "    </tr>\n",
       "    <tr>\n",
       "      <th>38</th>\n",
       "      <td>1976-05</td>\n",
       "      <td>2296.4</td>\n",
       "      <td>1437.9</td>\n",
       "      <td>0.626154</td>\n",
       "    </tr>\n",
       "    <tr>\n",
       "      <th>...</th>\n",
       "      <td>...</td>\n",
       "      <td>...</td>\n",
       "      <td>...</td>\n",
       "      <td>...</td>\n",
       "    </tr>\n",
       "    <tr>\n",
       "      <th>4700</th>\n",
       "      <td>2019-07</td>\n",
       "      <td>3896.9</td>\n",
       "      <td>3523.3</td>\n",
       "      <td>0.904129</td>\n",
       "    </tr>\n",
       "    <tr>\n",
       "      <th>4709</th>\n",
       "      <td>2019-08</td>\n",
       "      <td>3917.5</td>\n",
       "      <td>3560.6</td>\n",
       "      <td>0.908896</td>\n",
       "    </tr>\n",
       "    <tr>\n",
       "      <th>4718</th>\n",
       "      <td>2019-09</td>\n",
       "      <td>3936.1</td>\n",
       "      <td>3583.1</td>\n",
       "      <td>0.910317</td>\n",
       "    </tr>\n",
       "    <tr>\n",
       "      <th>4727</th>\n",
       "      <td>2019-10</td>\n",
       "      <td>3914.2</td>\n",
       "      <td>3588.8</td>\n",
       "      <td>0.916867</td>\n",
       "    </tr>\n",
       "    <tr>\n",
       "      <th>4736</th>\n",
       "      <td>2019-11</td>\n",
       "      <td>3920.1</td>\n",
       "      <td>3598.3</td>\n",
       "      <td>0.917910</td>\n",
       "    </tr>\n",
       "  </tbody>\n",
       "</table>\n",
       "<p>527 rows × 4 columns</p>\n",
       "</div>"
      ],
      "text/plain": [
       "        month  employment_m  employment_f     ratio\n",
       "2     1976-01        2280.7        1426.7  0.625554\n",
       "11    1976-02        2283.9        1429.5  0.625903\n",
       "20    1976-03        2287.3        1441.1  0.630044\n",
       "29    1976-04        2303.7        1432.0  0.621609\n",
       "38    1976-05        2296.4        1437.9  0.626154\n",
       "...       ...           ...           ...       ...\n",
       "4700  2019-07        3896.9        3523.3  0.904129\n",
       "4709  2019-08        3917.5        3560.6  0.908896\n",
       "4718  2019-09        3936.1        3583.1  0.910317\n",
       "4727  2019-10        3914.2        3588.8  0.916867\n",
       "4736  2019-11        3920.1        3598.3  0.917910\n",
       "\n",
       "[527 rows x 4 columns]"
      ]
     },
     "execution_count": 89,
     "metadata": {},
     "output_type": "execute_result"
    }
   ],
   "source": [
    "ontario['ratio'] = ontario['employment_f'] / ontario['employment_m']\n",
    "ontario"
   ]
  },
  {
   "cell_type": "code",
   "execution_count": 91,
   "id": "5fea5443",
   "metadata": {},
   "outputs": [
    {
     "data": {
      "image/png": "[encoded data removed]",
      "text/plain": [
       "<Figure size 640x480 with 1 Axes>"
      ]
     },
     "metadata": {},
     "output_type": "display_data"
    }
   ],
   "source": [
    "plot_ontario = ontario.plot('month', y='ratio')\n",
    "plot_ontario.legend().set_visible(False)"
   ]
  },
  {
   "cell_type": "code",
   "execution_count": 116,
   "id": "a0e4ba38",
   "metadata": {},
   "outputs": [
    {
     "data": {
      "text/plain": [
       "(0.6255535581181217, 0.9626324257050055, 0.9179102573913931, 1.4673567842101)"
      ]
     },
     "execution_count": 116,
     "metadata": {},
     "output_type": "execute_result"
    }
   ],
   "source": [
    "ontario_sorted = ontario.sort_values('ratio', ascending=False)\n",
    "# employment.columns\n",
    "(ontario['ratio'].iloc[0], max(ontario['ratio']), ontario['ratio'].iloc[-1],\n",
    " ontario['ratio'].iloc[-1] / ontario['ratio'].iloc[0])"
   ]
  },
  {
   "cell_type": "code",
   "execution_count": 102,
   "id": "e2516aab",
   "metadata": {},
   "outputs": [],
   "source": [
    "def joint_province_m_f(prov):\n",
    "    m = males[['month', 'sex', prov]].rename(columns={prov : 'employment'})\n",
    "    f = females[['month', 'sex', prov]].rename(columns={prov : 'employment'})\n",
    "    z = m.join(f.set_index('month'), on='month', lsuffix='_m', rsuffix='_f').drop(columns=['sex_m', 'sex_f'])\n",
    "    z['ratio'] = z['employment_f'] / z['employment_m']\n",
    "    \n",
    "    return (m, f, z)\n",
    "\n",
    "def plot_province(df):\n",
    "    plot = df.plot('month', y='ratio')\n",
    "    plot.legend().set_visible(False)"
   ]
  },
  {
   "cell_type": "code",
   "execution_count": 103,
   "id": "7fc5323e",
   "metadata": {},
   "outputs": [],
   "source": [
    "(quebec_m, quebec_f, quebec) = joint_province_m_f('Quebec')\n",
    "(bc_m, bc_f, bc) = joint_province_m_f('British Columbia')\n",
    "(alberta_m, alberta_f, alberta) = joint_province_m_f('Alberta')\n",
    "(manitoba_m, manitoba_f, manitoba) = joint_province_m_f('Manitoba')\n",
    "(saskatchewan_m, saskatchewan_f, saskatchewan) = joint_province_m_f('Saskatchewan')\n",
    "(ns_m, ns_f, ns) = joint_province_m_f('Nova Scotia')\n",
    "(nb_m, nb_f, nb) = joint_province_m_f('New Brunswick')\n",
    "(nal_m, nal_f, nal) = joint_province_m_f('Newfoundland and Labrador')\n",
    "(pei_m, pei_f, pei) = joint_province_m_f('Prince Edward Island')"
   ]
  },
  {
   "cell_type": "code",
   "execution_count": 104,
   "id": "96c0ef87",
   "metadata": {},
   "outputs": [
    {
     "data": {
      "image/png": "[encoded data removed]",
      "text/plain": [
       "<Figure size 640x480 with 1 Axes>"
      ]
     },
     "metadata": {},
     "output_type": "display_data"
    }
   ],
   "source": [
    "plot_province(quebec)"
   ]
  },
  {
   "cell_type": "code",
   "execution_count": 105,
   "id": "ae6e24d1",
   "metadata": {},
   "outputs": [
    {
     "data": {
      "image/png": "[encoded data removed]",
      "text/plain": [
       "<Figure size 640x480 with 1 Axes>"
      ]
     },
     "metadata": {},
     "output_type": "display_data"
    }
   ],
   "source": [
    "plot_province(bc)"
   ]
  },
  {
   "cell_type": "code",
   "execution_count": 132,
   "id": "07b45a94",
   "metadata": {},
   "outputs": [],
   "source": [
    "def growth(df): return df['ratio'].iloc[-1] / df['ratio'].iloc[0]\n",
    "def dfmin(df): return min(df['ratio'])\n",
    "def dfmax(df): return max(df['ratio'])"
   ]
  },
  {
   "cell_type": "code",
   "execution_count": 136,
   "id": "9d4c4463",
   "metadata": {},
   "outputs": [
    {
     "data": {
      "text/html": [
       "<div>\n",
       "<style scoped>\n",
       "    .dataframe tbody tr th:only-of-type {\n",
       "        vertical-align: middle;\n",
       "    }\n",
       "\n",
       "    .dataframe tbody tr th {\n",
       "        vertical-align: top;\n",
       "    }\n",
       "\n",
       "    .dataframe thead th {\n",
       "        text-align: right;\n",
       "    }\n",
       "</style>\n",
       "<table border=\"1\" class=\"dataframe\">\n",
       "  <thead>\n",
       "    <tr style=\"text-align: right;\">\n",
       "      <th></th>\n",
       "      <th>province</th>\n",
       "      <th>pop</th>\n",
       "      <th>min</th>\n",
       "      <th>max</th>\n",
       "      <th>growth</th>\n",
       "    </tr>\n",
       "  </thead>\n",
       "  <tbody>\n",
       "    <tr>\n",
       "      <th>8</th>\n",
       "      <td>Newfoundland and Labrador</td>\n",
       "      <td>510550</td>\n",
       "      <td>0.446333</td>\n",
       "      <td>1.043438</td>\n",
       "      <td>2.102077</td>\n",
       "    </tr>\n",
       "    <tr>\n",
       "      <th>1</th>\n",
       "      <td>Quebec</td>\n",
       "      <td>8501833</td>\n",
       "      <td>0.527943</td>\n",
       "      <td>0.941165</td>\n",
       "      <td>1.746252</td>\n",
       "    </tr>\n",
       "    <tr>\n",
       "      <th>6</th>\n",
       "      <td>Nova Scotia</td>\n",
       "      <td>969383</td>\n",
       "      <td>0.558285</td>\n",
       "      <td>1.031193</td>\n",
       "      <td>1.744062</td>\n",
       "    </tr>\n",
       "    <tr>\n",
       "      <th>7</th>\n",
       "      <td>New Brunswick</td>\n",
       "      <td>775610</td>\n",
       "      <td>0.539026</td>\n",
       "      <td>1.005108</td>\n",
       "      <td>1.654014</td>\n",
       "    </tr>\n",
       "    <tr>\n",
       "      <th>2</th>\n",
       "      <td>British Columbia</td>\n",
       "      <td>5000879</td>\n",
       "      <td>0.579024</td>\n",
       "      <td>0.953061</td>\n",
       "      <td>1.564182</td>\n",
       "    </tr>\n",
       "    <tr>\n",
       "      <th>5</th>\n",
       "      <td>Saskatchewan</td>\n",
       "      <td>1132505</td>\n",
       "      <td>0.508745</td>\n",
       "      <td>0.895770</td>\n",
       "      <td>1.540331</td>\n",
       "    </tr>\n",
       "    <tr>\n",
       "      <th>9</th>\n",
       "      <td>Prince Edward Island</td>\n",
       "      <td>154331</td>\n",
       "      <td>0.572464</td>\n",
       "      <td>1.047486</td>\n",
       "      <td>1.517132</td>\n",
       "    </tr>\n",
       "    <tr>\n",
       "      <th>0</th>\n",
       "      <td>Ontario</td>\n",
       "      <td>14223942</td>\n",
       "      <td>0.621609</td>\n",
       "      <td>0.962632</td>\n",
       "      <td>1.467357</td>\n",
       "    </tr>\n",
       "    <tr>\n",
       "      <th>3</th>\n",
       "      <td>Alberta</td>\n",
       "      <td>4700000</td>\n",
       "      <td>0.592128</td>\n",
       "      <td>0.864489</td>\n",
       "      <td>1.424537</td>\n",
       "    </tr>\n",
       "    <tr>\n",
       "      <th>4</th>\n",
       "      <td>Manitoba</td>\n",
       "      <td>1342153</td>\n",
       "      <td>0.599186</td>\n",
       "      <td>0.901817</td>\n",
       "      <td>1.387648</td>\n",
       "    </tr>\n",
       "  </tbody>\n",
       "</table>\n",
       "</div>"
      ],
      "text/plain": [
       "                    province       pop       min       max    growth\n",
       "8  Newfoundland and Labrador    510550  0.446333  1.043438  2.102077\n",
       "1                     Quebec   8501833  0.527943  0.941165  1.746252\n",
       "6                Nova Scotia    969383  0.558285  1.031193  1.744062\n",
       "7              New Brunswick    775610  0.539026  1.005108  1.654014\n",
       "2           British Columbia   5000879  0.579024  0.953061  1.564182\n",
       "5               Saskatchewan   1132505  0.508745  0.895770  1.540331\n",
       "9       Prince Edward Island    154331  0.572464  1.047486  1.517132\n",
       "0                    Ontario  14223942  0.621609  0.962632  1.467357\n",
       "3                    Alberta   4700000  0.592128  0.864489  1.424537\n",
       "4                   Manitoba   1342153  0.599186  0.901817  1.387648"
      ]
     },
     "execution_count": 136,
     "metadata": {},
     "output_type": "execute_result"
    }
   ],
   "source": [
    "canada_pop = [['Ontario', 14223942, dfmin(ontario), dfmax(ontario), growth(ontario)],\n",
    "              ['Quebec', 8501833, dfmin(quebec), dfmax(quebec), growth(quebec)],\n",
    "              ['British Columbia', 5000879, dfmin(bc), dfmax(bc), growth(bc)],\n",
    "              ['Alberta', 4700000, dfmin(alberta), dfmax(alberta), growth(alberta)],\n",
    "              ['Manitoba', 1342153, dfmin(manitoba), dfmax(manitoba), growth(manitoba)],\n",
    "              ['Saskatchewan', 1132505, dfmin(saskatchewan), dfmax(saskatchewan), growth(saskatchewan)],\n",
    "              ['Nova Scotia', 969383, dfmin(ns), dfmax(ns), growth(ns)],\n",
    "              ['New Brunswick', 775610, dfmin(nb), dfmax(nb), growth(nb)],\n",
    "              ['Newfoundland and Labrador', 510550, dfmin(nal), dfmax(nal), growth(nal)],\n",
    "              ['Prince Edward Island', 154331, dfmin(pei), dfmax(pei), growth(pei)]]\n",
    "emp = pd.DataFrame(canada_pop, columns=['province', 'pop', 'min', 'max', 'growth'])\n",
    "\n",
    "emp.sort_values('growth', ascending=False)"
   ]
  },
  {
   "cell_type": "code",
   "execution_count": 137,
   "id": "6a23ab9e",
   "metadata": {},
   "outputs": [
    {
     "data": {
      "text/html": [
       "<div>\n",
       "<style scoped>\n",
       "    .dataframe tbody tr th:only-of-type {\n",
       "        vertical-align: middle;\n",
       "    }\n",
       "\n",
       "    .dataframe tbody tr th {\n",
       "        vertical-align: top;\n",
       "    }\n",
       "\n",
       "    .dataframe thead th {\n",
       "        text-align: right;\n",
       "    }\n",
       "</style>\n",
       "<table border=\"1\" class=\"dataframe\">\n",
       "  <thead>\n",
       "    <tr style=\"text-align: right;\">\n",
       "      <th></th>\n",
       "      <th>province</th>\n",
       "      <th>pop</th>\n",
       "      <th>min</th>\n",
       "      <th>max</th>\n",
       "      <th>growth</th>\n",
       "    </tr>\n",
       "  </thead>\n",
       "  <tbody>\n",
       "    <tr>\n",
       "      <th>9</th>\n",
       "      <td>Prince Edward Island</td>\n",
       "      <td>154331</td>\n",
       "      <td>0.572464</td>\n",
       "      <td>1.047486</td>\n",
       "      <td>1.517132</td>\n",
       "    </tr>\n",
       "    <tr>\n",
       "      <th>8</th>\n",
       "      <td>Newfoundland and Labrador</td>\n",
       "      <td>510550</td>\n",
       "      <td>0.446333</td>\n",
       "      <td>1.043438</td>\n",
       "      <td>2.102077</td>\n",
       "    </tr>\n",
       "    <tr>\n",
       "      <th>6</th>\n",
       "      <td>Nova Scotia</td>\n",
       "      <td>969383</td>\n",
       "      <td>0.558285</td>\n",
       "      <td>1.031193</td>\n",
       "      <td>1.744062</td>\n",
       "    </tr>\n",
       "    <tr>\n",
       "      <th>7</th>\n",
       "      <td>New Brunswick</td>\n",
       "      <td>775610</td>\n",
       "      <td>0.539026</td>\n",
       "      <td>1.005108</td>\n",
       "      <td>1.654014</td>\n",
       "    </tr>\n",
       "    <tr>\n",
       "      <th>0</th>\n",
       "      <td>Ontario</td>\n",
       "      <td>14223942</td>\n",
       "      <td>0.621609</td>\n",
       "      <td>0.962632</td>\n",
       "      <td>1.467357</td>\n",
       "    </tr>\n",
       "    <tr>\n",
       "      <th>2</th>\n",
       "      <td>British Columbia</td>\n",
       "      <td>5000879</td>\n",
       "      <td>0.579024</td>\n",
       "      <td>0.953061</td>\n",
       "      <td>1.564182</td>\n",
       "    </tr>\n",
       "    <tr>\n",
       "      <th>1</th>\n",
       "      <td>Quebec</td>\n",
       "      <td>8501833</td>\n",
       "      <td>0.527943</td>\n",
       "      <td>0.941165</td>\n",
       "      <td>1.746252</td>\n",
       "    </tr>\n",
       "    <tr>\n",
       "      <th>4</th>\n",
       "      <td>Manitoba</td>\n",
       "      <td>1342153</td>\n",
       "      <td>0.599186</td>\n",
       "      <td>0.901817</td>\n",
       "      <td>1.387648</td>\n",
       "    </tr>\n",
       "    <tr>\n",
       "      <th>5</th>\n",
       "      <td>Saskatchewan</td>\n",
       "      <td>1132505</td>\n",
       "      <td>0.508745</td>\n",
       "      <td>0.895770</td>\n",
       "      <td>1.540331</td>\n",
       "    </tr>\n",
       "    <tr>\n",
       "      <th>3</th>\n",
       "      <td>Alberta</td>\n",
       "      <td>4700000</td>\n",
       "      <td>0.592128</td>\n",
       "      <td>0.864489</td>\n",
       "      <td>1.424537</td>\n",
       "    </tr>\n",
       "  </tbody>\n",
       "</table>\n",
       "</div>"
      ],
      "text/plain": [
       "                    province       pop       min       max    growth\n",
       "9       Prince Edward Island    154331  0.572464  1.047486  1.517132\n",
       "8  Newfoundland and Labrador    510550  0.446333  1.043438  2.102077\n",
       "6                Nova Scotia    969383  0.558285  1.031193  1.744062\n",
       "7              New Brunswick    775610  0.539026  1.005108  1.654014\n",
       "0                    Ontario  14223942  0.621609  0.962632  1.467357\n",
       "2           British Columbia   5000879  0.579024  0.953061  1.564182\n",
       "1                     Quebec   8501833  0.527943  0.941165  1.746252\n",
       "4                   Manitoba   1342153  0.599186  0.901817  1.387648\n",
       "5               Saskatchewan   1132505  0.508745  0.895770  1.540331\n",
       "3                    Alberta   4700000  0.592128  0.864489  1.424537"
      ]
     },
     "execution_count": 137,
     "metadata": {},
     "output_type": "execute_result"
    }
   ],
   "source": [
    "emp.sort_values('max', ascending=False)"
   ]
  },
  {
   "cell_type": "markdown",
   "id": "d2158e63",
   "metadata": {},
   "source": [
    "#### Goal: Provice boxes, box size = current province pop, box color = province growth"
   ]
  },
  {
   "cell_type": "code",
   "execution_count": 177,
   "id": "7039f787",
   "metadata": {},
   "outputs": [
    {
     "data": {
      "application/vnd.plotly.v1+json": {
       "config": {
        "plotlyServerURL": "https://plot.ly"
       },
       "data": [
        {
         "branchvalues": "total",
         "customdata": [
          [
           0.5921284857042005,
           1.4245367366658106,
           1.4245367366658106
          ],
          [
           0.5790238233585125,
           1.564182241130723,
           1.564182241130723
          ],
          [
           0.5991857883049594,
           1.3876479137078703,
           1.3876479137078703
          ],
          [
           0.5390260173448965,
           1.6540136627510262,
           1.6540136627510262
          ],
          [
           0.44633273703041143,
           2.1020768650683115,
           2.1020768650683115
          ],
          [
           0.5582854155776267,
           1.7440619605310548,
           1.7440619605310548
          ],
          [
           0.6216087164127274,
           1.4673567842101,
           1.4673567842101
          ],
          [
           0.572463768115942,
           1.5171317131713173,
           1.5171317131713173
          ],
          [
           0.5279428537127078,
           1.746252487540225,
           1.746252487540225
          ],
          [
           0.5087446560435289,
           1.5403306579886344,
           1.5403306579886344
          ],
          [
           "(?)",
           1.5577985361675577,
           1.5577985361675577
          ]
         ],
         "domain": {
          "x": [
           0,
           1
          ],
          "y": [
           0,
           1
          ]
         },
         "hovertemplate": "labels=%{label}<br>pop=%{value}<br>parent=%{parent}<br>id=%{id}<br>min=%{customdata[0]}<br>growth=%{color}<extra></extra>",
         "ids": [
          "Canada/Alberta",
          "Canada/British Columbia",
          "Canada/Manitoba",
          "Canada/New Brunswick",
          "Canada/Newfoundland and Labrador",
          "Canada/Nova Scotia",
          "Canada/Ontario",
          "Canada/Prince Edward Island",
          "Canada/Quebec",
          "Canada/Saskatchewan",
          "Canada"
         ],
         "labels": [
          "Alberta",
          "British Columbia",
          "Manitoba",
          "New Brunswick",
          "Newfoundland and Labrador",
          "Nova Scotia",
          "Ontario",
          "Prince Edward Island",
          "Quebec",
          "Saskatchewan",
          "Canada"
         ],
         "marker": {
          "coloraxis": "coloraxis",
          "colors": [
           1.4245367366658106,
           1.564182241130723,
           1.3876479137078703,
           1.6540136627510262,
           2.1020768650683115,
           1.7440619605310548,
           1.4673567842101,
           1.5171317131713173,
           1.746252487540225,
           1.5403306579886344,
           1.5577985361675577
          ]
         },
         "name": "",
         "parents": [
          "Canada",
          "Canada",
          "Canada",
          "Canada",
          "Canada",
          "Canada",
          "Canada",
          "Canada",
          "Canada",
          "Canada",
          ""
         ],
         "type": "treemap",
         "values": [
          4700000,
          5000879,
          1342153,
          775610,
          510550,
          969383,
          14223942,
          154331,
          8501833,
          1132505,
          37311186
         ]
        }
       ],
       "layout": {
        "coloraxis": {
         "cmid": 1.6147591022765073,
         "colorbar": {
          "title": {
           "text": "growth"
          }
         },
         "colorscale": [
          [
           0,
           "#f88"
          ],
          [
           0.5,
           "#eee"
          ],
          [
           1,
           "#4b4"
          ]
         ]
        },
        "legend": {
         "tracegroupgap": 0
        },
        "margin": {
         "b": 25,
         "l": 25,
         "r": 25,
         "t": 50
        },
        "template": {
         "data": {
          "bar": [
           {
            "error_x": {
             "color": "#2a3f5f"
            },
            "error_y": {
             "color": "#2a3f5f"
            },
            "marker": {
             "line": {
              "color": "#E5ECF6",
              "width": 0.5
             },
             "pattern": {
              "fillmode": "overlay",
              "size": 10,
              "solidity": 0.2
             }
            },
            "type": "bar"
           }
          ],
          "barpolar": [
           {
            "marker": {
             "line": {
              "color": "#E5ECF6",
              "width": 0.5
             },
             "pattern": {
              "fillmode": "overlay",
              "size": 10,
              "solidity": 0.2
             }
            },
            "type": "barpolar"
           }
          ],
          "carpet": [
           {
            "aaxis": {
             "endlinecolor": "#2a3f5f",
             "gridcolor": "white",
             "linecolor": "white",
             "minorgridcolor": "white",
             "startlinecolor": "#2a3f5f"
            },
            "baxis": {
             "endlinecolor": "#2a3f5f",
             "gridcolor": "white",
             "linecolor": "white",
             "minorgridcolor": "white",
             "startlinecolor": "#2a3f5f"
            },
            "type": "carpet"
           }
          ],
          "choropleth": [
           {
            "colorbar": {
             "outlinewidth": 0,
             "ticks": ""
            },
            "type": "choropleth"
           }
          ],
          "contour": [
           {
            "colorbar": {
             "outlinewidth": 0,
             "ticks": ""
            },
            "colorscale": [
             [
              0,
              "#0d0887"
             ],
             [
              0.1111111111111111,
              "#46039f"
             ],
             [
              0.2222222222222222,
              "#7201a8"
             ],
             [
              0.3333333333333333,
              "#9c179e"
             ],
             [
              0.4444444444444444,
              "#bd3786"
             ],
             [
              0.5555555555555556,
              "#d8576b"
             ],
             [
              0.6666666666666666,
              "#ed7953"
             ],
             [
              0.7777777777777778,
              "#fb9f3a"
             ],
             [
              0.8888888888888888,
              "#fdca26"
             ],
             [
              1,
              "#f0f921"
             ]
            ],
            "type": "contour"
           }
          ],
          "contourcarpet": [
           {
            "colorbar": {
             "outlinewidth": 0,
             "ticks": ""
            },
            "type": "contourcarpet"
           }
          ],
          "heatmap": [
           {
            "colorbar": {
             "outlinewidth": 0,
             "ticks": ""
            },
            "colorscale": [
             [
              0,
              "#0d0887"
             ],
             [
              0.1111111111111111,
              "#46039f"
             ],
             [
              0.2222222222222222,
              "#7201a8"
             ],
             [
              0.3333333333333333,
              "#9c179e"
             ],
             [
              0.4444444444444444,
              "#bd3786"
             ],
             [
              0.5555555555555556,
              "#d8576b"
             ],
             [
              0.6666666666666666,
              "#ed7953"
             ],
             [
              0.7777777777777778,
              "#fb9f3a"
             ],
             [
              0.8888888888888888,
              "#fdca26"
             ],
             [
              1,
              "#f0f921"
             ]
            ],
            "type": "heatmap"
           }
          ],
          "heatmapgl": [
           {
            "colorbar": {
             "outlinewidth": 0,
             "ticks": ""
            },
            "colorscale": [
             [
              0,
              "#0d0887"
             ],
             [
              0.1111111111111111,
              "#46039f"
             ],
             [
              0.2222222222222222,
              "#7201a8"
             ],
             [
              0.3333333333333333,
              "#9c179e"
             ],
             [
              0.4444444444444444,
              "#bd3786"
             ],
             [
              0.5555555555555556,
              "#d8576b"
             ],
             [
              0.6666666666666666,
              "#ed7953"
             ],
             [
              0.7777777777777778,
              "#fb9f3a"
             ],
             [
              0.8888888888888888,
              "#fdca26"
             ],
             [
              1,
              "#f0f921"
             ]
            ],
            "type": "heatmapgl"
           }
          ],
          "histogram": [
           {
            "marker": {
             "pattern": {
              "fillmode": "overlay",
              "size": 10,
              "solidity": 0.2
             }
            },
            "type": "histogram"
           }
          ],
          "histogram2d": [
           {
            "colorbar": {
             "outlinewidth": 0,
             "ticks": ""
            },
            "colorscale": [
             [
              0,
              "#0d0887"
             ],
             [
              0.1111111111111111,
              "#46039f"
             ],
             [
              0.2222222222222222,
              "#7201a8"
             ],
             [
              0.3333333333333333,
              "#9c179e"
             ],
             [
              0.4444444444444444,
              "#bd3786"
             ],
             [
              0.5555555555555556,
              "#d8576b"
             ],
             [
              0.6666666666666666,
              "#ed7953"
             ],
             [
              0.7777777777777778,
              "#fb9f3a"
             ],
             [
              0.8888888888888888,
              "#fdca26"
             ],
             [
              1,
              "#f0f921"
             ]
            ],
            "type": "histogram2d"
           }
          ],
          "histogram2dcontour": [
           {
            "colorbar": {
             "outlinewidth": 0,
             "ticks": ""
            },
            "colorscale": [
             [
              0,
              "#0d0887"
             ],
             [
              0.1111111111111111,
              "#46039f"
             ],
             [
              0.2222222222222222,
              "#7201a8"
             ],
             [
              0.3333333333333333,
              "#9c179e"
             ],
             [
              0.4444444444444444,
              "#bd3786"
             ],
             [
              0.5555555555555556,
              "#d8576b"
             ],
             [
              0.6666666666666666,
              "#ed7953"
             ],
             [
              0.7777777777777778,
              "#fb9f3a"
             ],
             [
              0.8888888888888888,
              "#fdca26"
             ],
             [
              1,
              "#f0f921"
             ]
            ],
            "type": "histogram2dcontour"
           }
          ],
          "mesh3d": [
           {
            "colorbar": {
             "outlinewidth": 0,
             "ticks": ""
            },
            "type": "mesh3d"
           }
          ],
          "parcoords": [
           {
            "line": {
             "colorbar": {
              "outlinewidth": 0,
              "ticks": ""
             }
            },
            "type": "parcoords"
           }
          ],
          "pie": [
           {
            "automargin": true,
            "type": "pie"
           }
          ],
          "scatter": [
           {
            "fillpattern": {
             "fillmode": "overlay",
             "size": 10,
             "solidity": 0.2
            },
            "type": "scatter"
           }
          ],
          "scatter3d": [
           {
            "line": {
             "colorbar": {
              "outlinewidth": 0,
              "ticks": ""
             }
            },
            "marker": {
             "colorbar": {
              "outlinewidth": 0,
              "ticks": ""
             }
            },
            "type": "scatter3d"
           }
          ],
          "scattercarpet": [
           {
            "marker": {
             "colorbar": {
              "outlinewidth": 0,
              "ticks": ""
             }
            },
            "type": "scattercarpet"
           }
          ],
          "scattergeo": [
           {
            "marker": {
             "colorbar": {
              "outlinewidth": 0,
              "ticks": ""
             }
            },
            "type": "scattergeo"
           }
          ],
          "scattergl": [
           {
            "marker": {
             "colorbar": {
              "outlinewidth": 0,
              "ticks": ""
             }
            },
            "type": "scattergl"
           }
          ],
          "scattermapbox": [
           {
            "marker": {
             "colorbar": {
              "outlinewidth": 0,
              "ticks": ""
             }
            },
            "type": "scattermapbox"
           }
          ],
          "scatterpolar": [
           {
            "marker": {
             "colorbar": {
              "outlinewidth": 0,
              "ticks": ""
             }
            },
            "type": "scatterpolar"
           }
          ],
          "scatterpolargl": [
           {
            "marker": {
             "colorbar": {
              "outlinewidth": 0,
              "ticks": ""
             }
            },
            "type": "scatterpolargl"
           }
          ],
          "scatterternary": [
           {
            "marker": {
             "colorbar": {
              "outlinewidth": 0,
              "ticks": ""
             }
            },
            "type": "scatterternary"
           }
          ],
          "surface": [
           {
            "colorbar": {
             "outlinewidth": 0,
             "ticks": ""
            },
            "colorscale": [
             [
              0,
              "#0d0887"
             ],
             [
              0.1111111111111111,
              "#46039f"
             ],
             [
              0.2222222222222222,
              "#7201a8"
             ],
             [
              0.3333333333333333,
              "#9c179e"
             ],
             [
              0.4444444444444444,
              "#bd3786"
             ],
             [
              0.5555555555555556,
              "#d8576b"
             ],
             [
              0.6666666666666666,
              "#ed7953"
             ],
             [
              0.7777777777777778,
              "#fb9f3a"
             ],
             [
              0.8888888888888888,
              "#fdca26"
             ],
             [
              1,
              "#f0f921"
             ]
            ],
            "type": "surface"
           }
          ],
          "table": [
           {
            "cells": {
             "fill": {
              "color": "#EBF0F8"
             },
             "line": {
              "color": "white"
             }
            },
            "header": {
             "fill": {
              "color": "#C8D4E3"
             },
             "line": {
              "color": "white"
             }
            },
            "type": "table"
           }
          ]
         },
         "layout": {
          "annotationdefaults": {
           "arrowcolor": "#2a3f5f",
           "arrowhead": 0,
           "arrowwidth": 1
          },
          "autotypenumbers": "strict",
          "coloraxis": {
           "colorbar": {
            "outlinewidth": 0,
            "ticks": ""
           }
          },
          "colorscale": {
           "diverging": [
            [
             0,
             "#8e0152"
            ],
            [
             0.1,
             "#c51b7d"
            ],
            [
             0.2,
             "#de77ae"
            ],
            [
             0.3,
             "#f1b6da"
            ],
            [
             0.4,
             "#fde0ef"
            ],
            [
             0.5,
             "#f7f7f7"
            ],
            [
             0.6,
             "#e6f5d0"
            ],
            [
             0.7,
             "#b8e186"
            ],
            [
             0.8,
             "#7fbc41"
            ],
            [
             0.9,
             "#4d9221"
            ],
            [
             1,
             "#276419"
            ]
           ],
           "sequential": [
            [
             0,
             "#0d0887"
            ],
            [
             0.1111111111111111,
             "#46039f"
            ],
            [
             0.2222222222222222,
             "#7201a8"
            ],
            [
             0.3333333333333333,
             "#9c179e"
            ],
            [
             0.4444444444444444,
             "#bd3786"
            ],
            [
             0.5555555555555556,
             "#d8576b"
            ],
            [
             0.6666666666666666,
             "#ed7953"
            ],
            [
             0.7777777777777778,
             "#fb9f3a"
            ],
            [
             0.8888888888888888,
             "#fdca26"
            ],
            [
             1,
             "#f0f921"
            ]
           ],
           "sequentialminus": [
            [
             0,
             "#0d0887"
            ],
            [
             0.1111111111111111,
             "#46039f"
            ],
            [
             0.2222222222222222,
             "#7201a8"
            ],
            [
             0.3333333333333333,
             "#9c179e"
            ],
            [
             0.4444444444444444,
             "#bd3786"
            ],
            [
             0.5555555555555556,
             "#d8576b"
            ],
            [
             0.6666666666666666,
             "#ed7953"
            ],
            [
             0.7777777777777778,
             "#fb9f3a"
            ],
            [
             0.8888888888888888,
             "#fdca26"
            ],
            [
             1,
             "#f0f921"
            ]
           ]
          },
          "colorway": [
           "#636efa",
           "#EF553B",
           "#00cc96",
           "#ab63fa",
           "#FFA15A",
           "#19d3f3",
           "#FF6692",
           "#B6E880",
           "#FF97FF",
           "#FECB52"
          ],
          "font": {
           "color": "#2a3f5f"
          },
          "geo": {
           "bgcolor": "white",
           "lakecolor": "white",
           "landcolor": "#E5ECF6",
           "showlakes": true,
           "showland": true,
           "subunitcolor": "white"
          },
          "hoverlabel": {
           "align": "left"
          },
          "hovermode": "closest",
          "mapbox": {
           "style": "light"
          },
          "paper_bgcolor": "white",
          "plot_bgcolor": "#E5ECF6",
          "polar": {
           "angularaxis": {
            "gridcolor": "white",
            "linecolor": "white",
            "ticks": ""
           },
           "bgcolor": "#E5ECF6",
           "radialaxis": {
            "gridcolor": "white",
            "linecolor": "white",
            "ticks": ""
           }
          },
          "scene": {
           "xaxis": {
            "backgroundcolor": "#E5ECF6",
            "gridcolor": "white",
            "gridwidth": 2,
            "linecolor": "white",
            "showbackground": true,
            "ticks": "",
            "zerolinecolor": "white"
           },
           "yaxis": {
            "backgroundcolor": "#E5ECF6",
            "gridcolor": "white",
            "gridwidth": 2,
            "linecolor": "white",
            "showbackground": true,
            "ticks": "",
            "zerolinecolor": "white"
           },
           "zaxis": {
            "backgroundcolor": "#E5ECF6",
            "gridcolor": "white",
            "gridwidth": 2,
            "linecolor": "white",
            "showbackground": true,
            "ticks": "",
            "zerolinecolor": "white"
           }
          },
          "shapedefaults": {
           "line": {
            "color": "#2a3f5f"
           }
          },
          "ternary": {
           "aaxis": {
            "gridcolor": "white",
            "linecolor": "white",
            "ticks": ""
           },
           "baxis": {
            "gridcolor": "white",
            "linecolor": "white",
            "ticks": ""
           },
           "bgcolor": "#E5ECF6",
           "caxis": {
            "gridcolor": "white",
            "linecolor": "white",
            "ticks": ""
           }
          },
          "title": {
           "x": 0.05
          },
          "xaxis": {
           "automargin": true,
           "gridcolor": "white",
           "linecolor": "white",
           "ticks": "",
           "title": {
            "standoff": 15
           },
           "zerolinecolor": "white",
           "zerolinewidth": 2
          },
          "yaxis": {
           "automargin": true,
           "gridcolor": "white",
           "linecolor": "white",
           "ticks": "",
           "title": {
            "standoff": 15
           },
           "zerolinecolor": "white",
           "zerolinewidth": 2
          }
         }
        }
       }
      },
      "text/html": [
       "<div>                            <div id=\"9a5b44d0-03fa-44b7-8409-85fe3f3ff87e\" class=\"plotly-graph-div\" style=\"height:525px; width:100%;\"></div>            <script type=\"text/javascript\">                require([\"plotly\"], function(Plotly) {                    window.PLOTLYENV=window.PLOTLYENV || {};                                    if (document.getElementById(\"9a5b44d0-03fa-44b7-8409-85fe3f3ff87e\")) {                    Plotly.newPlot(                        \"9a5b44d0-03fa-44b7-8409-85fe3f3ff87e\",                        [{\"branchvalues\":\"total\",\"customdata\":[[0.5921284857042005,1.4245367366658106,1.4245367366658106],[0.5790238233585125,1.564182241130723,1.564182241130723],[0.5991857883049594,1.3876479137078703,1.3876479137078703],[0.5390260173448965,1.6540136627510262,1.6540136627510262],[0.44633273703041143,2.1020768650683115,2.1020768650683115],[0.5582854155776267,1.7440619605310548,1.7440619605310548],[0.6216087164127274,1.4673567842101,1.4673567842101],[0.572463768115942,1.5171317131713173,1.5171317131713173],[0.5279428537127078,1.746252487540225,1.746252487540225],[0.5087446560435289,1.5403306579886344,1.5403306579886344],[\"(?)\",1.5577985361675577,1.5577985361675577]],\"domain\":{\"x\":[0.0,1.0],\"y\":[0.0,1.0]},\"hovertemplate\":\"labels=%{label}<br>pop=%{value}<br>parent=%{parent}<br>id=%{id}<br>min=%{customdata[0]}<br>growth=%{color}<extra></extra>\",\"ids\":[\"Canada/Alberta\",\"Canada/British Columbia\",\"Canada/Manitoba\",\"Canada/New Brunswick\",\"Canada/Newfoundland and Labrador\",\"Canada/Nova Scotia\",\"Canada/Ontario\",\"Canada/Prince Edward Island\",\"Canada/Quebec\",\"Canada/Saskatchewan\",\"Canada\"],\"labels\":[\"Alberta\",\"British Columbia\",\"Manitoba\",\"New Brunswick\",\"Newfoundland and Labrador\",\"Nova Scotia\",\"Ontario\",\"Prince Edward Island\",\"Quebec\",\"Saskatchewan\",\"Canada\"],\"marker\":{\"coloraxis\":\"coloraxis\",\"colors\":[1.4245367366658106,1.564182241130723,1.3876479137078703,1.6540136627510262,2.1020768650683115,1.7440619605310548,1.4673567842101,1.5171317131713173,1.746252487540225,1.5403306579886344,1.5577985361675577]},\"name\":\"\",\"parents\":[\"Canada\",\"Canada\",\"Canada\",\"Canada\",\"Canada\",\"Canada\",\"Canada\",\"Canada\",\"Canada\",\"Canada\",\"\"],\"values\":[4700000,5000879,1342153,775610,510550,969383,14223942,154331,8501833,1132505,37311186],\"type\":\"treemap\"}],                        {\"template\":{\"data\":{\"histogram2dcontour\":[{\"type\":\"histogram2dcontour\",\"colorbar\":{\"outlinewidth\":0,\"ticks\":\"\"},\"colorscale\":[[0.0,\"#0d0887\"],[0.1111111111111111,\"#46039f\"],[0.2222222222222222,\"#7201a8\"],[0.3333333333333333,\"#9c179e\"],[0.4444444444444444,\"#bd3786\"],[0.5555555555555556,\"#d8576b\"],[0.6666666666666666,\"#ed7953\"],[0.7777777777777778,\"#fb9f3a\"],[0.8888888888888888,\"#fdca26\"],[1.0,\"#f0f921\"]]}],\"choropleth\":[{\"type\":\"choropleth\",\"colorbar\":{\"outlinewidth\":0,\"ticks\":\"\"}}],\"histogram2d\":[{\"type\":\"histogram2d\",\"colorbar\":{\"outlinewidth\":0,\"ticks\":\"\"},\"colorscale\":[[0.0,\"#0d0887\"],[0.1111111111111111,\"#46039f\"],[0.2222222222222222,\"#7201a8\"],[0.3333333333333333,\"#9c179e\"],[0.4444444444444444,\"#bd3786\"],[0.5555555555555556,\"#d8576b\"],[0.6666666666666666,\"#ed7953\"],[0.7777777777777778,\"#fb9f3a\"],[0.8888888888888888,\"#fdca26\"],[1.0,\"#f0f921\"]]}],\"heatmap\":[{\"type\":\"heatmap\",\"colorbar\":{\"outlinewidth\":0,\"ticks\":\"\"},\"colorscale\":[[0.0,\"#0d0887\"],[0.1111111111111111,\"#46039f\"],[0.2222222222222222,\"#7201a8\"],[0.3333333333333333,\"#9c179e\"],[0.4444444444444444,\"#bd3786\"],[0.5555555555555556,\"#d8576b\"],[0.6666666666666666,\"#ed7953\"],[0.7777777777777778,\"#fb9f3a\"],[0.8888888888888888,\"#fdca26\"],[1.0,\"#f0f921\"]]}],\"heatmapgl\":[{\"type\":\"heatmapgl\",\"colorbar\":{\"outlinewidth\":0,\"ticks\":\"\"},\"colorscale\":[[0.0,\"#0d0887\"],[0.1111111111111111,\"#46039f\"],[0.2222222222222222,\"#7201a8\"],[0.3333333333333333,\"#9c179e\"],[0.4444444444444444,\"#bd3786\"],[0.5555555555555556,\"#d8576b\"],[0.6666666666666666,\"#ed7953\"],[0.7777777777777778,\"#fb9f3a\"],[0.8888888888888888,\"#fdca26\"],[1.0,\"#f0f921\"]]}],\"contourcarpet\":[{\"type\":\"contourcarpet\",\"colorbar\":{\"outlinewidth\":0,\"ticks\":\"\"}}],\"contour\":[{\"type\":\"contour\",\"colorbar\":{\"outlinewidth\":0,\"ticks\":\"\"},\"colorscale\":[[0.0,\"#0d0887\"],[0.1111111111111111,\"#46039f\"],[0.2222222222222222,\"#7201a8\"],[0.3333333333333333,\"#9c179e\"],[0.4444444444444444,\"#bd3786\"],[0.5555555555555556,\"#d8576b\"],[0.6666666666666666,\"#ed7953\"],[0.7777777777777778,\"#fb9f3a\"],[0.8888888888888888,\"#fdca26\"],[1.0,\"#f0f921\"]]}],\"surface\":[{\"type\":\"surface\",\"colorbar\":{\"outlinewidth\":0,\"ticks\":\"\"},\"colorscale\":[[0.0,\"#0d0887\"],[0.1111111111111111,\"#46039f\"],[0.2222222222222222,\"#7201a8\"],[0.3333333333333333,\"#9c179e\"],[0.4444444444444444,\"#bd3786\"],[0.5555555555555556,\"#d8576b\"],[0.6666666666666666,\"#ed7953\"],[0.7777777777777778,\"#fb9f3a\"],[0.8888888888888888,\"#fdca26\"],[1.0,\"#f0f921\"]]}],\"mesh3d\":[{\"type\":\"mesh3d\",\"colorbar\":{\"outlinewidth\":0,\"ticks\":\"\"}}],\"scatter\":[{\"fillpattern\":{\"fillmode\":\"overlay\",\"size\":10,\"solidity\":0.2},\"type\":\"scatter\"}],\"parcoords\":[{\"type\":\"parcoords\",\"line\":{\"colorbar\":{\"outlinewidth\":0,\"ticks\":\"\"}}}],\"scatterpolargl\":[{\"type\":\"scatterpolargl\",\"marker\":{\"colorbar\":{\"outlinewidth\":0,\"ticks\":\"\"}}}],\"bar\":[{\"error_x\":{\"color\":\"#2a3f5f\"},\"error_y\":{\"color\":\"#2a3f5f\"},\"marker\":{\"line\":{\"color\":\"#E5ECF6\",\"width\":0.5},\"pattern\":{\"fillmode\":\"overlay\",\"size\":10,\"solidity\":0.2}},\"type\":\"bar\"}],\"scattergeo\":[{\"type\":\"scattergeo\",\"marker\":{\"colorbar\":{\"outlinewidth\":0,\"ticks\":\"\"}}}],\"scatterpolar\":[{\"type\":\"scatterpolar\",\"marker\":{\"colorbar\":{\"outlinewidth\":0,\"ticks\":\"\"}}}],\"histogram\":[{\"marker\":{\"pattern\":{\"fillmode\":\"overlay\",\"size\":10,\"solidity\":0.2}},\"type\":\"histogram\"}],\"scattergl\":[{\"type\":\"scattergl\",\"marker\":{\"colorbar\":{\"outlinewidth\":0,\"ticks\":\"\"}}}],\"scatter3d\":[{\"type\":\"scatter3d\",\"line\":{\"colorbar\":{\"outlinewidth\":0,\"ticks\":\"\"}},\"marker\":{\"colorbar\":{\"outlinewidth\":0,\"ticks\":\"\"}}}],\"scattermapbox\":[{\"type\":\"scattermapbox\",\"marker\":{\"colorbar\":{\"outlinewidth\":0,\"ticks\":\"\"}}}],\"scatterternary\":[{\"type\":\"scatterternary\",\"marker\":{\"colorbar\":{\"outlinewidth\":0,\"ticks\":\"\"}}}],\"scattercarpet\":[{\"type\":\"scattercarpet\",\"marker\":{\"colorbar\":{\"outlinewidth\":0,\"ticks\":\"\"}}}],\"carpet\":[{\"aaxis\":{\"endlinecolor\":\"#2a3f5f\",\"gridcolor\":\"white\",\"linecolor\":\"white\",\"minorgridcolor\":\"white\",\"startlinecolor\":\"#2a3f5f\"},\"baxis\":{\"endlinecolor\":\"#2a3f5f\",\"gridcolor\":\"white\",\"linecolor\":\"white\",\"minorgridcolor\":\"white\",\"startlinecolor\":\"#2a3f5f\"},\"type\":\"carpet\"}],\"table\":[{\"cells\":{\"fill\":{\"color\":\"#EBF0F8\"},\"line\":{\"color\":\"white\"}},\"header\":{\"fill\":{\"color\":\"#C8D4E3\"},\"line\":{\"color\":\"white\"}},\"type\":\"table\"}],\"barpolar\":[{\"marker\":{\"line\":{\"color\":\"#E5ECF6\",\"width\":0.5},\"pattern\":{\"fillmode\":\"overlay\",\"size\":10,\"solidity\":0.2}},\"type\":\"barpolar\"}],\"pie\":[{\"automargin\":true,\"type\":\"pie\"}]},\"layout\":{\"autotypenumbers\":\"strict\",\"colorway\":[\"#636efa\",\"#EF553B\",\"#00cc96\",\"#ab63fa\",\"#FFA15A\",\"#19d3f3\",\"#FF6692\",\"#B6E880\",\"#FF97FF\",\"#FECB52\"],\"font\":{\"color\":\"#2a3f5f\"},\"hovermode\":\"closest\",\"hoverlabel\":{\"align\":\"left\"},\"paper_bgcolor\":\"white\",\"plot_bgcolor\":\"#E5ECF6\",\"polar\":{\"bgcolor\":\"#E5ECF6\",\"angularaxis\":{\"gridcolor\":\"white\",\"linecolor\":\"white\",\"ticks\":\"\"},\"radialaxis\":{\"gridcolor\":\"white\",\"linecolor\":\"white\",\"ticks\":\"\"}},\"ternary\":{\"bgcolor\":\"#E5ECF6\",\"aaxis\":{\"gridcolor\":\"white\",\"linecolor\":\"white\",\"ticks\":\"\"},\"baxis\":{\"gridcolor\":\"white\",\"linecolor\":\"white\",\"ticks\":\"\"},\"caxis\":{\"gridcolor\":\"white\",\"linecolor\":\"white\",\"ticks\":\"\"}},\"coloraxis\":{\"colorbar\":{\"outlinewidth\":0,\"ticks\":\"\"}},\"colorscale\":{\"sequential\":[[0.0,\"#0d0887\"],[0.1111111111111111,\"#46039f\"],[0.2222222222222222,\"#7201a8\"],[0.3333333333333333,\"#9c179e\"],[0.4444444444444444,\"#bd3786\"],[0.5555555555555556,\"#d8576b\"],[0.6666666666666666,\"#ed7953\"],[0.7777777777777778,\"#fb9f3a\"],[0.8888888888888888,\"#fdca26\"],[1.0,\"#f0f921\"]],\"sequentialminus\":[[0.0,\"#0d0887\"],[0.1111111111111111,\"#46039f\"],[0.2222222222222222,\"#7201a8\"],[0.3333333333333333,\"#9c179e\"],[0.4444444444444444,\"#bd3786\"],[0.5555555555555556,\"#d8576b\"],[0.6666666666666666,\"#ed7953\"],[0.7777777777777778,\"#fb9f3a\"],[0.8888888888888888,\"#fdca26\"],[1.0,\"#f0f921\"]],\"diverging\":[[0,\"#8e0152\"],[0.1,\"#c51b7d\"],[0.2,\"#de77ae\"],[0.3,\"#f1b6da\"],[0.4,\"#fde0ef\"],[0.5,\"#f7f7f7\"],[0.6,\"#e6f5d0\"],[0.7,\"#b8e186\"],[0.8,\"#7fbc41\"],[0.9,\"#4d9221\"],[1,\"#276419\"]]},\"xaxis\":{\"gridcolor\":\"white\",\"linecolor\":\"white\",\"ticks\":\"\",\"title\":{\"standoff\":15},\"zerolinecolor\":\"white\",\"automargin\":true,\"zerolinewidth\":2},\"yaxis\":{\"gridcolor\":\"white\",\"linecolor\":\"white\",\"ticks\":\"\",\"title\":{\"standoff\":15},\"zerolinecolor\":\"white\",\"automargin\":true,\"zerolinewidth\":2},\"scene\":{\"xaxis\":{\"backgroundcolor\":\"#E5ECF6\",\"gridcolor\":\"white\",\"linecolor\":\"white\",\"showbackground\":true,\"ticks\":\"\",\"zerolinecolor\":\"white\",\"gridwidth\":2},\"yaxis\":{\"backgroundcolor\":\"#E5ECF6\",\"gridcolor\":\"white\",\"linecolor\":\"white\",\"showbackground\":true,\"ticks\":\"\",\"zerolinecolor\":\"white\",\"gridwidth\":2},\"zaxis\":{\"backgroundcolor\":\"#E5ECF6\",\"gridcolor\":\"white\",\"linecolor\":\"white\",\"showbackground\":true,\"ticks\":\"\",\"zerolinecolor\":\"white\",\"gridwidth\":2}},\"shapedefaults\":{\"line\":{\"color\":\"#2a3f5f\"}},\"annotationdefaults\":{\"arrowcolor\":\"#2a3f5f\",\"arrowhead\":0,\"arrowwidth\":1},\"geo\":{\"bgcolor\":\"white\",\"landcolor\":\"#E5ECF6\",\"subunitcolor\":\"white\",\"showland\":true,\"showlakes\":true,\"lakecolor\":\"white\"},\"title\":{\"x\":0.05},\"mapbox\":{\"style\":\"light\"}}},\"coloraxis\":{\"colorbar\":{\"title\":{\"text\":\"growth\"}},\"colorscale\":[[0,\"#f88\"],[0.5,\"#eee\"],[1,\"#4b4\"]],\"cmid\":1.6147591022765073},\"legend\":{\"tracegroupgap\":0},\"margin\":{\"t\":50,\"l\":25,\"r\":25,\"b\":25}},                        {\"responsive\": true}                    ).then(function(){\n",
       "                            \n",
       "var gd = document.getElementById('9a5b44d0-03fa-44b7-8409-85fe3f3ff87e');\n",
       "var x = new MutationObserver(function (mutations, observer) {{\n",
       "        var display = window.getComputedStyle(gd).display;\n",
       "        if (!display || display === 'none') {{\n",
       "            console.log([gd, 'removed!']);\n",
       "            Plotly.purge(gd);\n",
       "            observer.disconnect();\n",
       "        }}\n",
       "}});\n",
       "\n",
       "// Listen for the removal of the full notebook cells\n",
       "var notebookContainer = gd.closest('#notebook-container');\n",
       "if (notebookContainer) {{\n",
       "    x.observe(notebookContainer, {childList: true});\n",
       "}}\n",
       "\n",
       "// Listen for the clearing of the current output cell\n",
       "var outputEl = gd.closest('.output');\n",
       "if (outputEl) {{\n",
       "    x.observe(outputEl, {childList: true});\n",
       "}}\n",
       "\n",
       "                        })                };                });            </script>        </div>"
      ]
     },
     "metadata": {},
     "output_type": "display_data"
    }
   ],
   "source": [
    "import plotly.express as px\n",
    "import numpy as np\n",
    "\n",
    "tm = px.treemap(emp, path=[px.Constant('Canada'), 'province'], hover_data=['min', 'growth'],\n",
    "                names='province', values='pop', color='growth',\n",
    "                color_continuous_scale=[(0, '#f88'), (0.5, '#eee'), (1, '#4b4')],\n",
    "               color_continuous_midpoint=np.average(emp['growth']))\n",
    "tm.update_layout(margin = dict(t=50, l=25, r=25, b=25))\n",
    "tm.show()"
   ]
  },
  {
   "cell_type": "code",
   "execution_count": 183,
   "id": "9977cd13",
   "metadata": {},
   "outputs": [
    {
     "data": {
      "text/plain": [
       "month            2019-11\n",
       "employment_m       115.9\n",
       "employment_f       110.9\n",
       "ratio           0.956859\n",
       "Name: 4736, dtype: object"
      ]
     },
     "execution_count": 183,
     "metadata": {},
     "output_type": "execute_result"
    }
   ],
   "source": [
    "nal.iloc[-1]"
   ]
  },
  {
   "cell_type": "code",
   "execution_count": 188,
   "id": "35ee8fc5",
   "metadata": {},
   "outputs": [
    {
     "data": {
      "text/html": [
       "<div>\n",
       "<style scoped>\n",
       "    .dataframe tbody tr th:only-of-type {\n",
       "        vertical-align: middle;\n",
       "    }\n",
       "\n",
       "    .dataframe tbody tr th {\n",
       "        vertical-align: top;\n",
       "    }\n",
       "\n",
       "    .dataframe thead th {\n",
       "        text-align: right;\n",
       "    }\n",
       "</style>\n",
       "<table border=\"1\" class=\"dataframe\">\n",
       "  <thead>\n",
       "    <tr style=\"text-align: right;\">\n",
       "      <th></th>\n",
       "      <th>month</th>\n",
       "      <th>employment_m</th>\n",
       "      <th>employment_f</th>\n",
       "      <th>ratio</th>\n",
       "    </tr>\n",
       "  </thead>\n",
       "  <tbody>\n",
       "    <tr>\n",
       "      <th>4502</th>\n",
       "      <td>2017-09</td>\n",
       "      <td>108.2</td>\n",
       "      <td>112.9</td>\n",
       "      <td>1.043438</td>\n",
       "    </tr>\n",
       "    <tr>\n",
       "      <th>4250</th>\n",
       "      <td>2015-05</td>\n",
       "      <td>114.3</td>\n",
       "      <td>118.1</td>\n",
       "      <td>1.033246</td>\n",
       "    </tr>\n",
       "    <tr>\n",
       "      <th>4520</th>\n",
       "      <td>2017-11</td>\n",
       "      <td>110.9</td>\n",
       "      <td>113.9</td>\n",
       "      <td>1.027051</td>\n",
       "    </tr>\n",
       "    <tr>\n",
       "      <th>4529</th>\n",
       "      <td>2017-12</td>\n",
       "      <td>110.9</td>\n",
       "      <td>113.8</td>\n",
       "      <td>1.026150</td>\n",
       "    </tr>\n",
       "    <tr>\n",
       "      <th>4439</th>\n",
       "      <td>2017-02</td>\n",
       "      <td>111.4</td>\n",
       "      <td>114.0</td>\n",
       "      <td>1.023339</td>\n",
       "    </tr>\n",
       "    <tr>\n",
       "      <th>4511</th>\n",
       "      <td>2017-10</td>\n",
       "      <td>111.2</td>\n",
       "      <td>113.6</td>\n",
       "      <td>1.021583</td>\n",
       "    </tr>\n",
       "    <tr>\n",
       "      <th>4448</th>\n",
       "      <td>2017-03</td>\n",
       "      <td>111.7</td>\n",
       "      <td>113.9</td>\n",
       "      <td>1.019696</td>\n",
       "    </tr>\n",
       "    <tr>\n",
       "      <th>4484</th>\n",
       "      <td>2017-07</td>\n",
       "      <td>108.9</td>\n",
       "      <td>110.9</td>\n",
       "      <td>1.018365</td>\n",
       "    </tr>\n",
       "    <tr>\n",
       "      <th>4457</th>\n",
       "      <td>2017-04</td>\n",
       "      <td>112.2</td>\n",
       "      <td>114.0</td>\n",
       "      <td>1.016043</td>\n",
       "    </tr>\n",
       "    <tr>\n",
       "      <th>4493</th>\n",
       "      <td>2017-08</td>\n",
       "      <td>109.3</td>\n",
       "      <td>110.8</td>\n",
       "      <td>1.013724</td>\n",
       "    </tr>\n",
       "  </tbody>\n",
       "</table>\n",
       "</div>"
      ],
      "text/plain": [
       "        month  employment_m  employment_f     ratio\n",
       "4502  2017-09         108.2         112.9  1.043438\n",
       "4250  2015-05         114.3         118.1  1.033246\n",
       "4520  2017-11         110.9         113.9  1.027051\n",
       "4529  2017-12         110.9         113.8  1.026150\n",
       "4439  2017-02         111.4         114.0  1.023339\n",
       "4511  2017-10         111.2         113.6  1.021583\n",
       "4448  2017-03         111.7         113.9  1.019696\n",
       "4484  2017-07         108.9         110.9  1.018365\n",
       "4457  2017-04         112.2         114.0  1.016043\n",
       "4493  2017-08         109.3         110.8  1.013724"
      ]
     },
     "execution_count": 188,
     "metadata": {},
     "output_type": "execute_result"
    }
   ],
   "source": [
    "nal.sort_values('ratio', ascending=False).head(10)"
   ]
  },
  {
   "cell_type": "code",
   "execution_count": 191,
   "id": "ea91ce56",
   "metadata": {},
   "outputs": [
    {
     "data": {
      "text/plain": [
       "month            2013-09\n",
       "employment_m        35.8\n",
       "employment_f        37.5\n",
       "ratio           1.047486\n",
       "Name: 4070, dtype: object"
      ]
     },
     "execution_count": 191,
     "metadata": {},
     "output_type": "execute_result"
    }
   ],
   "source": [
    "pei.sort_values('ratio', ascending=False).iloc[0]"
   ]
  },
  {
   "cell_type": "code",
   "execution_count": 194,
   "id": "17dea985",
   "metadata": {},
   "outputs": [],
   "source": [
    "emp.to_csv('employment_summary.csv')"
   ]
  },
  {
   "cell_type": "code",
   "execution_count": 197,
   "id": "f668a7a4",
   "metadata": {},
   "outputs": [
    {
     "data": {
      "text/plain": [
       "month                           1976-01\n",
       "variable                     Employment\n",
       "sex                          Both sexes\n",
       "Alberta                           819.5\n",
       "British Columbia                 1029.7\n",
       "Manitoba                          427.4\n",
       "New Brunswick                     229.6\n",
       "Newfoundland and Labrador         162.4\n",
       "Nova Scotia                       303.0\n",
       "Ontario                          3707.4\n",
       "Prince Edward Island               42.7\n",
       "Quebec                           2545.4\n",
       "Saskatchewan                      369.5\n",
       "Name: 0, dtype: object"
      ]
     },
     "execution_count": 197,
     "metadata": {},
     "output_type": "execute_result"
    }
   ],
   "source": [
    "employment.iloc[0]"
   ]
  }
 ],
 "metadata": {
  "kernelspec": {
   "display_name": "Python 3 (ipykernel)",
   "language": "python",
   "name": "python3"
  },
  "language_info": {
   "codemirror_mode": {
    "name": "ipython",
    "version": 3
   },
   "file_extension": ".py",
   "mimetype": "text/x-python",
   "name": "python",
   "nbconvert_exporter": "python",
   "pygments_lexer": "ipython3",
   "version": "3.10.9"
  }
 },
 "nbformat": 4,
 "nbformat_minor": 5
}
